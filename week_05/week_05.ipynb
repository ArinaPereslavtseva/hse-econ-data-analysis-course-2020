{
 "cells": [
  {
   "cell_type": "markdown",
   "metadata": {},
   "source": [
    "# Лекция №5. Введение в извлечение данных из интернета"
   ]
  },
  {
   "cell_type": "markdown",
   "metadata": {},
   "source": [
    "![](data:image/jpeg;base64,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)"
   ]
  },
  {
   "cell_type": "markdown",
   "metadata": {},
   "source": [
    "Содержание:\n",
    "\n",
    "1. Библиотека requests & язык разметки HTML\n",
    "2. BeautifulSoup\n",
    "3. Бонусы"
   ]
  },
  {
   "cell_type": "markdown",
   "metadata": {},
   "source": [
    "<br><br>\n",
    "\n",
    "## 1. Библиотека requests & язык разметки HTML"
   ]
  },
  {
   "cell_type": "code",
   "execution_count": 1,
   "metadata": {},
   "outputs": [],
   "source": [
    "import requests"
   ]
  },
  {
   "cell_type": "code",
   "execution_count": 10,
   "metadata": {},
   "outputs": [],
   "source": [
    "response = requests.get('https://yandex.ru')"
   ]
  },
  {
   "cell_type": "code",
   "execution_count": 3,
   "metadata": {},
   "outputs": [
    {
     "data": {
      "text/plain": [
       "requests.models.Response"
      ]
     },
     "execution_count": 3,
     "metadata": {},
     "output_type": "execute_result"
    }
   ],
   "source": [
    "type(response)"
   ]
  },
  {
   "cell_type": "code",
   "execution_count": 11,
   "metadata": {},
   "outputs": [
    {
     "data": {
      "text/plain": [
       "200"
      ]
     },
     "execution_count": 11,
     "metadata": {},
     "output_type": "execute_result"
    }
   ],
   "source": [
    "response.status_code"
   ]
  },
  {
   "cell_type": "code",
   "execution_count": 5,
   "metadata": {},
   "outputs": [
    {
     "data": {
      "text/plain": [
       "str"
      ]
     },
     "execution_count": 5,
     "metadata": {},
     "output_type": "execute_result"
    }
   ],
   "source": [
    "type(response.text)"
   ]
  },
  {
   "cell_type": "code",
   "execution_count": 6,
   "metadata": {},
   "outputs": [
    {
     "data": {
      "text/plain": [
       "176920"
      ]
     },
     "execution_count": 6,
     "metadata": {},
     "output_type": "execute_result"
    }
   ],
   "source": [
    "len(response.text)"
   ]
  },
  {
   "cell_type": "code",
   "execution_count": 7,
   "metadata": {
    "scrolled": true
   },
   "outputs": [
    {
     "name": "stdout",
     "output_type": "stream",
     "text": [
      "<!DOCTYPE html><html class=\"i-ua_js_no i-ua_css_standart i-ua_browser_unknown i-ua_browser-engine_unknown i-ua_browser_desktop i-ua_platform_other\" lang=\"ru\"><head xmlns:og=\"http://ogp.me/ns#\"><meta http-equiv=Content-Type content=\"text/html;charset=UTF-8\"><meta http-equiv=\"X-UA-Compatible\" content=\"IE=edge\"><title>Яндекс</title><link rel=\"shortcut icon\" href=\"//yastatic.net/iconostasis/_/8lFaTHLDzmsEZz-5XaQg9iTWZGE.png\"><link rel=\"apple-touch-icon\" href=\"//yastatic.net/iconostasis/_/5mdPq4V7ghRgzBvMkCaTzd2fjYg.png\" sizes=\"76x76\"><link rel=\"apple-touch-icon\" href=\"//yastatic.net/iconostasis/_/s-hGoCQMUosTziuARBks08IUxmc.png\" sizes=\"120x120\"><link rel=\"apple-touch-icon\" href=\"//yastatic.net/iconostasis/_/KnU823iWwj_vrPra7x9aQ-4yjRw.png\" sizes=\"152x152\"><link rel=\"apple-touch-icon\" href=\"//yastatic.net/iconostasis/_/wT9gfGZZ80sP0VsoR6dgDyXJf2Y.png\" sizes=\"180x180\"><link rel=\"alternate\" type=\"application/rss+xml\" title=\"Новости Яндекса\" href=\"https://yandex.ru/company/press_releases/news.\n"
     ]
    }
   ],
   "source": [
    "print(response.text[:1000])"
   ]
  },
  {
   "cell_type": "markdown",
   "metadata": {},
   "source": [
    "Теперь посмотрим на https://yandex.ru через режим разработчика."
   ]
  },
  {
   "cell_type": "markdown",
   "metadata": {},
   "source": [
    "Можно ли тут что-нибудь разобрать?"
   ]
  },
  {
   "cell_type": "code",
   "execution_count": 12,
   "metadata": {},
   "outputs": [
    {
     "data": {
      "text/plain": [
       "66048"
      ]
     },
     "execution_count": 12,
     "metadata": {},
     "output_type": "execute_result"
    }
   ],
   "source": [
    "response.text.find('USD')"
   ]
  },
  {
   "cell_type": "code",
   "execution_count": 9,
   "metadata": {},
   "outputs": [
    {
     "data": {
      "text/plain": [
       "'m_id_2002 hint__item inline-stocks__part\" data-precision=\"2\"><a class=\"home-link home-link_black_yes inline-stocks__link\" href=\"https://yandex.ru/news/quotes/2002.html\" target=\"_blank\" rel=\"noopener\">USD</a><span class=\"inline-stocks__value\"><span class=\"inline-stocks__text\"><span class=\"inline-stocks__item__baloon b-inline\"><i class=\"inline-stocks__item__baloon__tail\"></i><span class=\"inline-stocks__item__baloon_inner\">курс MOEX на 27/11</span></span></span><span class=\"inline-stocks__value_inner\">75,89</span></span><td><span class=\"inline-stocks__cell inline-stocks__cell_type_delta inline-st'"
      ]
     },
     "execution_count": 9,
     "metadata": {},
     "output_type": "execute_result"
    }
   ],
   "source": [
    "k = response.text.find('USD')\n",
    "response.text[k-200:k+400]"
   ]
  },
  {
   "cell_type": "markdown",
   "metadata": {},
   "source": [
    "Как-то сложновато."
   ]
  },
  {
   "cell_type": "markdown",
   "metadata": {},
   "source": [
    "<br><br><br><br>\n",
    "\n",
    "На самом деле всё не так плохо, если разобраться с HTML"
   ]
  },
  {
   "cell_type": "markdown",
   "metadata": {},
   "source": [
    "<br><br>"
   ]
  },
  {
   "cell_type": "markdown",
   "metadata": {},
   "source": [
    "HTML состоит из элементов"
   ]
  },
  {
   "cell_type": "markdown",
   "metadata": {},
   "source": [
    " <tagname>Content goes here...</tagname> "
   ]
  },
  {
   "cell_type": "markdown",
   "metadata": {},
   "source": [
    " <tagname1> <tagname2>Content goes here...</tagname2> </tagname1> "
   ]
  },
  {
   "cell_type": "markdown",
   "metadata": {},
   "source": [
    "У элементов могут быть атрибуты"
   ]
  },
  {
   "cell_type": "markdown",
   "metadata": {},
   "source": [
    " <tagname attribute='some_value_1' attribute2='some_value_2'>Content goes here...</tagname> "
   ]
  },
  {
   "cell_type": "markdown",
   "metadata": {},
   "source": [
    "Внутри элементов м.б. другие элементы"
   ]
  },
  {
   "cell_type": "markdown",
   "metadata": {},
   "source": [
    "Шаблон HTML документа (любая страница имеет такую структуру"
   ]
  },
  {
   "cell_type": "markdown",
   "metadata": {},
   "source": [
    "<!DOCTYPE html>\n",
    "<html lang=\"en\" dir=\"ltr\">\n",
    "  <head>\n",
    "    <meta charset=\"utf-8\">\n",
    "    <title></title>\n",
    "  </head>\n",
    "  <body>\n",
    "      <h1>sdagdkajsgdka</h1>\n",
    "  </body>\n",
    "</html>"
   ]
  },
  {
   "cell_type": "markdown",
   "metadata": {},
   "source": [
    "Давайте посмотрим на http://example.com/"
   ]
  },
  {
   "cell_type": "markdown",
   "metadata": {},
   "source": [
    "<br><br>\n",
    "На основе этого шаблона можно простой текстовый файл превратить в простенькую веб-страничку"
   ]
  },
  {
   "cell_type": "markdown",
   "metadata": {},
   "source": [
    "<br><br>\n",
    "\n",
    "* [Туториал по HTML](https://www.w3schools.com/html/default.asp)\n",
    "\n",
    "В принципе, подробно знать не обязательно. Главное - понимать, как устроен синтаксис, и запонмить несколько самых популярных тэгов:\n",
    "\n",
    "* `<p>` - абзацы\n",
    "* `<h1>`, ..., `<h6>` - заголовки разного размера\n",
    "* `<a>` - ссылки\n",
    "* `<table>`, `<tr>`, `<td>` - таблицы, строки таблиц, элементы таблиц\n",
    "* `<img>` - картинки\n",
    "* `<div>`, `<span>` - помогаю делить страницу на логические блоки\n",
    "* ...\n",
    "\n",
    "См. справочник \n",
    "\n",
    "* [Справочник элементов](https://www.w3schools.com/tags/default.asp)\n",
    "\n",
    "\n",
    "Также полезно иметь представление о [CSS](https://www.w3schools.com/css/default.asp)"
   ]
  },
  {
   "cell_type": "markdown",
   "metadata": {},
   "source": [
    "<br><br>\n",
    "\n",
    "**Что знаем и умеем?**\n",
    "\n",
    "* Умеем посылать GET-запросы с помощью `requests.get`\n",
    "* Умеем проверять статус запроса с помощью `status_code`\n",
    "* Умеем получать текст HTML-кода страницы\n",
    "* Имеем общее представление о языке разметки HTML"
   ]
  },
  {
   "cell_type": "markdown",
   "metadata": {},
   "source": [
    "<br><br>\n",
    "\n",
    "## 2. BeautifulSoup: супчик, а не мешанина"
   ]
  },
  {
   "cell_type": "code",
   "execution_count": 15,
   "metadata": {},
   "outputs": [],
   "source": [
    "from bs4 import BeautifulSoup"
   ]
  },
  {
   "cell_type": "markdown",
   "metadata": {},
   "source": [
    "Чтобы установить выполняем прямо в ноутбке в отдельной ячейке вот эту команду:\n",
    "    \n",
    "* `!conda install -c anaconda beautifulsoup4 -y` (если у вас Anaconda)\n",
    "* `!pip install beautifulsoup4 -y` (если у вас не Anaconda)\n",
    "\n",
    "Либо эти же команды (но без восклицательного знака) в командной строке (Terminal, Anaconda Prompt, ...)"
   ]
  },
  {
   "cell_type": "code",
   "execution_count": 16,
   "metadata": {},
   "outputs": [
    {
     "name": "stdout",
     "output_type": "stream",
     "text": [
      "200\n"
     ]
    }
   ],
   "source": [
    "response = requests.get('https://yandex.ru')\n",
    "print(response.status_code)"
   ]
  },
  {
   "cell_type": "code",
   "execution_count": 17,
   "metadata": {},
   "outputs": [],
   "source": [
    "soup = BeautifulSoup(response.text)"
   ]
  },
  {
   "cell_type": "code",
   "execution_count": 18,
   "metadata": {},
   "outputs": [
    {
     "data": {
      "text/plain": [
       "bs4.BeautifulSoup"
      ]
     },
     "execution_count": 18,
     "metadata": {},
     "output_type": "execute_result"
    }
   ],
   "source": [
    "type(soup)"
   ]
  },
  {
   "cell_type": "markdown",
   "metadata": {},
   "source": [
    "<br>\n",
    "\n",
    "Методы `find` и `find_all`"
   ]
  },
  {
   "cell_type": "code",
   "execution_count": 19,
   "metadata": {},
   "outputs": [],
   "source": [
    "result = soup.find('h1')"
   ]
  },
  {
   "cell_type": "code",
   "execution_count": 20,
   "metadata": {},
   "outputs": [
    {
     "data": {
      "text/plain": [
       "bs4.element.Tag"
      ]
     },
     "execution_count": 20,
     "metadata": {},
     "output_type": "execute_result"
    }
   ],
   "source": [
    "type(result)"
   ]
  },
  {
   "cell_type": "code",
   "execution_count": 21,
   "metadata": {},
   "outputs": [
    {
     "data": {
      "text/plain": [
       "<h1 class=\"news__tab-wrapper news__head-item\"><a aria-controls=\"news_panel_news\" aria-selected=\"true\" class=\"home-link home-link_blue_yes news__tab news__tab_selected_yes mix-tabber__tab mix-tabber__tab_selected_yes\" data-key=\"news\" data-stat-link=\"news.tab.link.news\" data-stat-select=\"news.tab.select.news\" href=\"https://yandex.ru/news?mlid=1606546726_exp4.glob_225&amp;msid=1606547275.75869.94869.68360&amp;utm_medium=topnews_news&amp;utm_source=morda_desktop\" id=\"news_tab_news\" rel=\"noopener\" role=\"tab\" tabindex=\"0\" target=\"_blank\"><span class=\"news__tab-text\">Сейчас в СМИ</span></a></h1>"
      ]
     },
     "execution_count": 21,
     "metadata": {},
     "output_type": "execute_result"
    }
   ],
   "source": [
    "result"
   ]
  },
  {
   "cell_type": "code",
   "execution_count": 22,
   "metadata": {},
   "outputs": [],
   "source": [
    "result = soup.find_all('h1')"
   ]
  },
  {
   "cell_type": "code",
   "execution_count": 23,
   "metadata": {},
   "outputs": [
    {
     "data": {
      "text/plain": [
       "bs4.element.ResultSet"
      ]
     },
     "execution_count": 23,
     "metadata": {},
     "output_type": "execute_result"
    }
   ],
   "source": [
    "type(result)"
   ]
  },
  {
   "cell_type": "code",
   "execution_count": 24,
   "metadata": {},
   "outputs": [
    {
     "data": {
      "text/plain": [
       "bs4.element.Tag"
      ]
     },
     "execution_count": 24,
     "metadata": {},
     "output_type": "execute_result"
    }
   ],
   "source": [
    "type(result[0])"
   ]
  },
  {
   "cell_type": "code",
   "execution_count": 25,
   "metadata": {},
   "outputs": [
    {
     "data": {
      "text/plain": [
       "14"
      ]
     },
     "execution_count": 25,
     "metadata": {},
     "output_type": "execute_result"
    }
   ],
   "source": [
    "len(result)"
   ]
  },
  {
   "cell_type": "code",
   "execution_count": 28,
   "metadata": {},
   "outputs": [
    {
     "data": {
      "text/plain": [
       "<h1 class=\"news__tab-wrapper news__head-item\"><a aria-controls=\"news_panel_news\" aria-selected=\"true\" class=\"home-link home-link_blue_yes news__tab news__tab_selected_yes mix-tabber__tab mix-tabber__tab_selected_yes\" data-key=\"news\" data-stat-link=\"news.tab.link.news\" data-stat-select=\"news.tab.select.news\" href=\"https://yandex.ru/news?mlid=1606546726_exp4.glob_225&amp;msid=1606547275.75869.94869.68360&amp;utm_medium=topnews_news&amp;utm_source=morda_desktop\" id=\"news_tab_news\" rel=\"noopener\" role=\"tab\" tabindex=\"0\" target=\"_blank\"><span class=\"news__tab-text\">Сейчас в СМИ</span></a></h1>"
      ]
     },
     "execution_count": 28,
     "metadata": {},
     "output_type": "execute_result"
    }
   ],
   "source": [
    "result[0]"
   ]
  },
  {
   "cell_type": "markdown",
   "metadata": {},
   "source": [
    "Методы `find` и `find_all` можно применять к результатам"
   ]
  },
  {
   "cell_type": "code",
   "execution_count": 33,
   "metadata": {},
   "outputs": [
    {
     "data": {
      "text/plain": [
       "<span class=\"news__tab-text\">Сейчас в СМИ</span>"
      ]
     },
     "execution_count": 33,
     "metadata": {},
     "output_type": "execute_result"
    }
   ],
   "source": [
    "soup.find('h1').find('a').find('span')"
   ]
  },
  {
   "cell_type": "code",
   "execution_count": 36,
   "metadata": {},
   "outputs": [],
   "source": [
    "# soup.find('span', attrs={'class': 'news__tab-text'})"
   ]
  },
  {
   "cell_type": "code",
   "execution_count": null,
   "metadata": {},
   "outputs": [],
   "source": [
    "result[0].find_all('span')"
   ]
  },
  {
   "cell_type": "code",
   "execution_count": 37,
   "metadata": {},
   "outputs": [],
   "source": [
    "result = soup.find_all('span', attrs={'class': 'inline-stocks__value_inner'})"
   ]
  },
  {
   "cell_type": "markdown",
   "metadata": {},
   "source": [
    "Поиск по набору имён"
   ]
  },
  {
   "cell_type": "code",
   "execution_count": 44,
   "metadata": {},
   "outputs": [],
   "source": [
    "result = soup.find_all(['h1', 'title'])"
   ]
  },
  {
   "cell_type": "markdown",
   "metadata": {},
   "source": [
    "Поиск по значению атрибута"
   ]
  },
  {
   "cell_type": "code",
   "execution_count": 49,
   "metadata": {},
   "outputs": [],
   "source": [
    "result = soup.find_all(attrs={'class': 'b-inline'})"
   ]
  },
  {
   "cell_type": "code",
   "execution_count": 53,
   "metadata": {},
   "outputs": [],
   "source": [
    "# result[2]"
   ]
  },
  {
   "cell_type": "markdown",
   "metadata": {},
   "source": [
    "Поиск по наличию атрибута"
   ]
  },
  {
   "cell_type": "code",
   "execution_count": 54,
   "metadata": {},
   "outputs": [],
   "source": [
    "result = soup.find_all(attrs={'name': True})"
   ]
  },
  {
   "cell_type": "markdown",
   "metadata": {},
   "source": [
    "<br><br>"
   ]
  },
  {
   "cell_type": "markdown",
   "metadata": {},
   "source": [
    " <tagname1> <tagname2>Content goes here...</tagname2> </tagname1> "
   ]
  },
  {
   "cell_type": "markdown",
   "metadata": {},
   "source": [
    "<!DOCTYPE html>\n",
    "<html lang=\"en\" dir=\"ltr\">\n",
    "  <head>\n",
    "    <meta charset=\"utf-8\">\n",
    "    <title></title>\n",
    "  </head>\n",
    "  <body>\n",
    "      <h1>sdagdkajsgdka</h1>\n",
    "  </body>\n",
    "</html>"
   ]
  },
  {
   "cell_type": "code",
   "execution_count": 83,
   "metadata": {},
   "outputs": [
    {
     "data": {
      "text/plain": [
       "<input name=\"msid\" type=\"hidden\" value=\"1606547275.75869.94869.68360\"/>"
      ]
     },
     "execution_count": 83,
     "metadata": {},
     "output_type": "execute_result"
    }
   ],
   "source": [
    "result[3]"
   ]
  },
  {
   "cell_type": "code",
   "execution_count": 84,
   "metadata": {},
   "outputs": [
    {
     "data": {
      "text/plain": [
       "<form action=\"https://yandex.ru/search/\" aria-label=\"Поиск в интернете\" class=\"search2 mini-suggest mini-suggest_search_yes mini-suggest_personal_yes mini-suggest_theme_flat mini-suggest_tab-change_yes mini-suggest_request_xhr mini-suggest_separate-popup_yes mini-suggest_autofocus_yes mini-suggest_re-request_yes mini-suggest_direct_yes mini-suggest_a11y_yes i-bem\" data-bem='{\"search2\":{\"nl\":true}}' data-mini-bem='{\"mini-suggest\":{\"url\":\"//yandex.ru/suggest/suggest-ya.cgi?srv=morda_ru_desktop&amp;wiz=TrWth&amp;uil=ru&amp;fact=1&amp;v=4&amp;icon=1&amp;lr=213&amp;hl=1&amp;bemjson=0&amp;history=1&amp;html=1&amp;platform=desktop&amp;rich_nav=1&amp;show_experiment=222&amp;show_experiment=224&amp;verified_nav=1&amp;rich_phone=1&amp;safeclick=1&amp;skip_clickdaemon_host=1&amp;yu=6076972331606547275&amp;maybe_ads=1\",\"deleteUrl\":\"//yandex.ru/suggest-delete-text?srv=morda_ru_desktop&amp;text_to_delete=\",\"counter\":{\"service\":\"morda_ru_desktop\",\"url\":\"//yandex.ru/clck/jclck\",\"timeout\":300,\"params\":{\"dtype\":\"stred\",\"pid\":\"0\",\"cid\":\"2873\",\"lr\":\"213\"},\"yandexuid\":\"6076972331606547275\",\"reqidInCookie\":null,\"src\":true},\"clickHost\":\"//yandex.ru/clck\",\"navSource\":\"/\",\"a11y\":{\"nav\":\"внешняя ссылка\"},\"direct\":{\"label\":\"реклама\",\"counter_delay\":5000,\"ad_counter\":\"suggest.direct\",\"delay_counters\":{\"found\":\"suggest.direct_delay_start\",\"shown\":\"suggest.direct_delayed_show\"}},\"reRequestTimeout\":\"200\",\"reRequestUrl\":\"//yandex.ru/suggest/ad-rerequest-ya.cgi?srv=morda_ru_desktop&amp;wiz=TrWth&amp;uil=ru&amp;fact=1&amp;v=4&amp;icon=1&amp;lr=213&amp;hl=1&amp;bemjson=0&amp;history=1&amp;html=1&amp;platform=desktop&amp;rich_nav=1&amp;show_experiment=222&amp;show_experiment=224&amp;verified_nav=1&amp;rich_phone=1&amp;safeclick=1&amp;skip_clickdaemon_host=1&amp;yu=6076972331606547275&amp;maybe_ads=1\",\"reRequestMaxLatency\":0}}' role=\"search\"><input name=\"lr\" type=\"hidden\" value=\"213\"/><input name=\"msid\" type=\"hidden\" value=\"1606547275.75869.94869.68360\"/><div class=\"search2__input\"><span class=\"input input_size_ws-head input_theme_websearch input_search2-clear-hide_yes input_ahead_yes input_autofocus_capture input_keyboard_yes input_clear_yes i-bem\" data-bem='{\"input\":{\"live\":false,\"autoFocus\":true}}'><span class=\"input__box\"><span class=\"input__clear mini-suggest__input-clear\" unselectable=\"on\"> </span><div class=\"keyboard-loader input__keyboard-button i-bem b-opacity b-opacity-hold-ie keyboard-loader_lang_ru\" data-bem='{\"keyboard-loader\":{\"name\":\"keyboard-loader\"}}'><i class=\"b-ico keyboard-loader__icon b-ico-kbd\"></i></div><input aria-autocomplete=\"list\" aria-label=\"Запрос\" autocapitalize=\"off\" autocomplete=\"off\" autocorrect=\"off\" class=\"input__control input__input mini-suggest__input\" id=\"text\" maxlength=\"400\" name=\"text\" spellcheck=\"false\" tabindex=\"2\"/></span></span></div><div class=\"search2__button\"><button class=\"button mini-suggest__button button_theme_websearch button_size_ws-head i-bem\" data-bem='{\"button\":{}}' role=\"button\" tabindex=\"-1\" type=\"submit\"><span class=\"button__text\">Найти</span></button></div></form>"
      ]
     },
     "execution_count": 84,
     "metadata": {},
     "output_type": "execute_result"
    }
   ],
   "source": [
    "result[3].parent"
   ]
  },
  {
   "cell_type": "code",
   "execution_count": 85,
   "metadata": {},
   "outputs": [
    {
     "data": {
      "text/plain": [
       "<list_iterator at 0x7f894b32d890>"
      ]
     },
     "execution_count": 85,
     "metadata": {},
     "output_type": "execute_result"
    }
   ],
   "source": [
    "result[3].parent.children"
   ]
  },
  {
   "cell_type": "code",
   "execution_count": 96,
   "metadata": {},
   "outputs": [
    {
     "data": {
      "text/plain": [
       "<input name=\"lr\" type=\"hidden\" value=\"213\"/>"
      ]
     },
     "execution_count": 96,
     "metadata": {},
     "output_type": "execute_result"
    }
   ],
   "source": [
    "list(result[3].parent.children)[0]"
   ]
  },
  {
   "cell_type": "code",
   "execution_count": 98,
   "metadata": {},
   "outputs": [
    {
     "data": {
      "text/plain": [
       "<input name=\"lr\" type=\"hidden\" value=\"213\"/>"
      ]
     },
     "execution_count": 98,
     "metadata": {},
     "output_type": "execute_result"
    }
   ],
   "source": [
    "list(result[3].parent.children)[1].previous_sibling"
   ]
  },
  {
   "cell_type": "code",
   "execution_count": null,
   "metadata": {},
   "outputs": [],
   "source": [
    "list(list(result[3].parent.children)[1].previous_siblings)"
   ]
  },
  {
   "cell_type": "code",
   "execution_count": 100,
   "metadata": {},
   "outputs": [
    {
     "data": {
      "text/plain": [
       "<div class=\"search2__input\"><span class=\"input input_size_ws-head input_theme_websearch input_search2-clear-hide_yes input_ahead_yes input_autofocus_capture input_keyboard_yes input_clear_yes i-bem\" data-bem='{\"input\":{\"live\":false,\"autoFocus\":true}}'><span class=\"input__box\"><span class=\"input__clear mini-suggest__input-clear\" unselectable=\"on\"> </span><div class=\"keyboard-loader input__keyboard-button i-bem b-opacity b-opacity-hold-ie keyboard-loader_lang_ru\" data-bem='{\"keyboard-loader\":{\"name\":\"keyboard-loader\"}}'><i class=\"b-ico keyboard-loader__icon b-ico-kbd\"></i></div><input aria-autocomplete=\"list\" aria-label=\"Запрос\" autocapitalize=\"off\" autocomplete=\"off\" autocorrect=\"off\" class=\"input__control input__input mini-suggest__input\" id=\"text\" maxlength=\"400\" name=\"text\" spellcheck=\"false\" tabindex=\"2\"/></span></span></div>"
      ]
     },
     "execution_count": 100,
     "metadata": {},
     "output_type": "execute_result"
    }
   ],
   "source": [
    "list(result[3].parent.children)[1].next_sibling"
   ]
  },
  {
   "cell_type": "code",
   "execution_count": 99,
   "metadata": {},
   "outputs": [
    {
     "data": {
      "text/plain": [
       "[<div class=\"search2__input\"><span class=\"input input_size_ws-head input_theme_websearch input_search2-clear-hide_yes input_ahead_yes input_autofocus_capture input_keyboard_yes input_clear_yes i-bem\" data-bem='{\"input\":{\"live\":false,\"autoFocus\":true}}'><span class=\"input__box\"><span class=\"input__clear mini-suggest__input-clear\" unselectable=\"on\"> </span><div class=\"keyboard-loader input__keyboard-button i-bem b-opacity b-opacity-hold-ie keyboard-loader_lang_ru\" data-bem='{\"keyboard-loader\":{\"name\":\"keyboard-loader\"}}'><i class=\"b-ico keyboard-loader__icon b-ico-kbd\"></i></div><input aria-autocomplete=\"list\" aria-label=\"Запрос\" autocapitalize=\"off\" autocomplete=\"off\" autocorrect=\"off\" class=\"input__control input__input mini-suggest__input\" id=\"text\" maxlength=\"400\" name=\"text\" spellcheck=\"false\" tabindex=\"2\"/></span></span></div>,\n",
       " <div class=\"search2__button\"><button class=\"button mini-suggest__button button_theme_websearch button_size_ws-head i-bem\" data-bem='{\"button\":{}}' role=\"button\" tabindex=\"-1\" type=\"submit\"><span class=\"button__text\">Найти</span></button></div>]"
      ]
     },
     "execution_count": 99,
     "metadata": {},
     "output_type": "execute_result"
    }
   ],
   "source": [
    "list(list(result[3].parent.children)[1].next_siblings)"
   ]
  },
  {
   "cell_type": "code",
   "execution_count": null,
   "metadata": {},
   "outputs": [],
   "source": [
    "name, attrs, text, contents"
   ]
  },
  {
   "cell_type": "code",
   "execution_count": 101,
   "metadata": {},
   "outputs": [],
   "source": [
    "result = soup.find_all('span', attrs={'class': 'inline-stocks__value_inner'})"
   ]
  },
  {
   "cell_type": "code",
   "execution_count": 102,
   "metadata": {},
   "outputs": [
    {
     "data": {
      "text/plain": [
       "[<span class=\"inline-stocks__value_inner\">75,85</span>,\n",
       " <span class=\"inline-stocks__value_inner\">90,74</span>,\n",
       " <span class=\"inline-stocks__value_inner\">48,79</span>]"
      ]
     },
     "execution_count": 102,
     "metadata": {},
     "output_type": "execute_result"
    }
   ],
   "source": [
    "result"
   ]
  },
  {
   "cell_type": "code",
   "execution_count": 104,
   "metadata": {},
   "outputs": [
    {
     "data": {
      "text/plain": [
       "bs4.element.Tag"
      ]
     },
     "execution_count": 104,
     "metadata": {},
     "output_type": "execute_result"
    }
   ],
   "source": [
    "type(result[0])"
   ]
  },
  {
   "cell_type": "code",
   "execution_count": 105,
   "metadata": {},
   "outputs": [
    {
     "data": {
      "text/plain": [
       "'span'"
      ]
     },
     "execution_count": 105,
     "metadata": {},
     "output_type": "execute_result"
    }
   ],
   "source": [
    "result[0].name"
   ]
  },
  {
   "cell_type": "code",
   "execution_count": 106,
   "metadata": {},
   "outputs": [
    {
     "data": {
      "text/plain": [
       "{'class': ['inline-stocks__value_inner']}"
      ]
     },
     "execution_count": 106,
     "metadata": {},
     "output_type": "execute_result"
    }
   ],
   "source": [
    "result[0].attrs"
   ]
  },
  {
   "cell_type": "code",
   "execution_count": 107,
   "metadata": {},
   "outputs": [
    {
     "data": {
      "text/plain": [
       "['inline-stocks__value_inner']"
      ]
     },
     "execution_count": 107,
     "metadata": {},
     "output_type": "execute_result"
    }
   ],
   "source": [
    "result[0].attrs['class']"
   ]
  },
  {
   "cell_type": "code",
   "execution_count": 114,
   "metadata": {},
   "outputs": [
    {
     "data": {
      "text/plain": [
       "['inline-stocks__value_inner']"
      ]
     },
     "execution_count": 114,
     "metadata": {},
     "output_type": "execute_result"
    }
   ],
   "source": [
    "result[0]['class']"
   ]
  },
  {
   "cell_type": "code",
   "execution_count": 108,
   "metadata": {},
   "outputs": [
    {
     "data": {
      "text/plain": [
       "['inline-stocks__value_inner']"
      ]
     },
     "execution_count": 108,
     "metadata": {},
     "output_type": "execute_result"
    }
   ],
   "source": [
    "result[0].attrs.get('class')"
   ]
  },
  {
   "cell_type": "code",
   "execution_count": 109,
   "metadata": {},
   "outputs": [
    {
     "data": {
      "text/plain": [
       "'75,85'"
      ]
     },
     "execution_count": 109,
     "metadata": {},
     "output_type": "execute_result"
    }
   ],
   "source": [
    "result[0].text"
   ]
  },
  {
   "cell_type": "code",
   "execution_count": 110,
   "metadata": {},
   "outputs": [
    {
     "data": {
      "text/plain": [
       "['75,85']"
      ]
     },
     "execution_count": 110,
     "metadata": {},
     "output_type": "execute_result"
    }
   ],
   "source": [
    "result[0].contents"
   ]
  },
  {
   "cell_type": "code",
   "execution_count": 112,
   "metadata": {},
   "outputs": [
    {
     "data": {
      "text/plain": [
       "<span class=\"inline-stocks__value\"><span class=\"inline-stocks__text\"><span class=\"inline-stocks__item__baloon b-inline\"><i class=\"inline-stocks__item__baloon__tail\"></i><span class=\"inline-stocks__item__baloon_inner\">курс MOEX на 27/11</span></span></span><span class=\"inline-stocks__value_inner\">75,85</span></span>"
      ]
     },
     "execution_count": 112,
     "metadata": {},
     "output_type": "execute_result"
    }
   ],
   "source": [
    "result[0].parent"
   ]
  },
  {
   "cell_type": "code",
   "execution_count": 113,
   "metadata": {},
   "outputs": [
    {
     "data": {
      "text/plain": [
       "[<span class=\"inline-stocks__text\"><span class=\"inline-stocks__item__baloon b-inline\"><i class=\"inline-stocks__item__baloon__tail\"></i><span class=\"inline-stocks__item__baloon_inner\">курс MOEX на 27/11</span></span></span>,\n",
       " <span class=\"inline-stocks__value_inner\">75,85</span>]"
      ]
     },
     "execution_count": 113,
     "metadata": {},
     "output_type": "execute_result"
    }
   ],
   "source": [
    "result[0].parent.contents"
   ]
  },
  {
   "cell_type": "markdown",
   "metadata": {},
   "source": [
    "<br><br>\n",
    "Поиск по самописной функции. Функция должна принимать на вход объект типа тэг, и возвращать истину или ложь. Найдуться все тэги, для которых функция вернёт `True`"
   ]
  },
  {
   "cell_type": "code",
   "execution_count": 125,
   "metadata": {},
   "outputs": [],
   "source": [
    "def filter_function(tag):\n",
    "    classes = tag.get('class')\n",
    "    if not classes:\n",
    "        return False\n",
    "    return len(classes) > 6"
   ]
  },
  {
   "cell_type": "code",
   "execution_count": 126,
   "metadata": {},
   "outputs": [],
   "source": [
    "results = soup.find_all(filter_function)"
   ]
  },
  {
   "cell_type": "code",
   "execution_count": 127,
   "metadata": {},
   "outputs": [
    {
     "data": {
      "text/plain": [
       "26"
      ]
     },
     "execution_count": 127,
     "metadata": {},
     "output_type": "execute_result"
    }
   ],
   "source": [
    "len(results)"
   ]
  },
  {
   "cell_type": "code",
   "execution_count": 129,
   "metadata": {},
   "outputs": [
    {
     "data": {
      "text/plain": [
       "['desk-notif-card',\n",
       " 'desk-notif-card_covid_chart',\n",
       " 'desk-notif-card_icon_no',\n",
       " 'desk-notif-card_details_no',\n",
       " 'desk-notif-card_actions_yes',\n",
       " 'desk-notif-card_minified_yes',\n",
       " 'desk-notif-card_animated_yes',\n",
       " 'desk-notif-card_bg_default',\n",
       " 'desk-notif-card_icon-align_left',\n",
       " 'i-bem']"
      ]
     },
     "execution_count": 129,
     "metadata": {},
     "output_type": "execute_result"
    }
   ],
   "source": [
    "results[0]['class']"
   ]
  },
  {
   "cell_type": "code",
   "execution_count": null,
   "metadata": {},
   "outputs": [],
   "source": [
    "results[1].attrs['class']"
   ]
  },
  {
   "cell_type": "markdown",
   "metadata": {},
   "source": [
    "<br><br>\n",
    "\n",
    "**Что знаем и умеем?**\n",
    "\n",
    "* Знаем, для чего нужна библиотека `BeautifulSoup`\n",
    "* Умеем устанавливать `BeautifulSoup`\n",
    "* Умеем превращать текст исходного кода странички в объект типа `bs4.BeautifulSoup`\n",
    "* Умеем находить нужные элементы на странице с помощью методов `find` и `find_all`\n",
    "    * Понимаем разницу между `find` и `find_all`\n",
    "    * Умеем находить элементы по имени/по наличию атрибута/по значению атрибута\n",
    "    * Умеем находить элементы с помощью самописных функций\n",
    "* Умеем перемещаться по дереву страницы: находить предков/наследников/соседей элементов страницы\n",
    "\n",
    "\n",
    "Освоения этого материала достаточно для поиска любых элементов страницы. Тем не менее, рекомендую прочитать [документацию библиотеки](https://www.crummy.com/software/BeautifulSoup/bs4/doc/). Она короткая, но из неё можно узнать о дополнительных трюках, которые позволят упростить код."
   ]
  },
  {
   "cell_type": "markdown",
   "metadata": {},
   "source": [
    "<br><br>\n",
    "\n",
    "## 3. Бонусы"
   ]
  },
  {
   "cell_type": "markdown",
   "metadata": {},
   "source": [
    "#### 3.1 Качаем картинки"
   ]
  },
  {
   "cell_type": "code",
   "execution_count": 130,
   "metadata": {},
   "outputs": [],
   "source": [
    "url = 'https://upload.wikimedia.org/wikipedia/commons/thumb/1/13/Tunnel_View%2C_Yosemite_Valley%2C_Yosemite_NP_-_Diliff.jpg/173px-Tunnel_View%2C_Yosemite_Valley%2C_Yosemite_NP_-_Diliff.jpg'"
   ]
  },
  {
   "cell_type": "code",
   "execution_count": 131,
   "metadata": {},
   "outputs": [
    {
     "name": "stdout",
     "output_type": "stream",
     "text": [
      "200\n"
     ]
    }
   ],
   "source": [
    "response = requests.get(url)\n",
    "print(response.status_code)"
   ]
  },
  {
   "cell_type": "code",
   "execution_count": 134,
   "metadata": {},
   "outputs": [],
   "source": [
    "# response.content"
   ]
  },
  {
   "cell_type": "code",
   "execution_count": 136,
   "metadata": {},
   "outputs": [],
   "source": [
    "with open('temp.jpg', 'wb') as f:\n",
    "    f.write(response.content)"
   ]
  },
  {
   "cell_type": "markdown",
   "metadata": {},
   "source": [
    "<br><br>"
   ]
  },
  {
   "cell_type": "markdown",
   "metadata": {},
   "source": [
    "#### 3.2 Качаем файлы"
   ]
  },
  {
   "cell_type": "markdown",
   "metadata": {},
   "source": [
    "https://www.gutenberg.org/"
   ]
  },
  {
   "cell_type": "code",
   "execution_count": 137,
   "metadata": {},
   "outputs": [],
   "source": [
    "url = 'https://www.gutenberg.org/ebooks/63878.epub.noimages?session_id=d42c845826832f35ddc19b295afd8e0b0c04e069'"
   ]
  },
  {
   "cell_type": "code",
   "execution_count": 138,
   "metadata": {},
   "outputs": [
    {
     "name": "stdout",
     "output_type": "stream",
     "text": [
      "200\n"
     ]
    }
   ],
   "source": [
    "response = requests.get(url)\n",
    "print(response.status_code)"
   ]
  },
  {
   "cell_type": "code",
   "execution_count": 139,
   "metadata": {},
   "outputs": [],
   "source": [
    "with open('doc.epub', 'wb') as f:\n",
    "    f.write(response.content)"
   ]
  },
  {
   "cell_type": "markdown",
   "metadata": {},
   "source": [
    "Объёмные файлы лучше качать кусочками"
   ]
  },
  {
   "cell_type": "code",
   "execution_count": null,
   "metadata": {},
   "outputs": [],
   "source": [
    "with requests.get(url, stream=True) as r:\n",
    "    with open('hm.epub', 'wb') as f:\n",
    "        r.raise_for_status()\n",
    "        for chunk in r.iter_content(chunk_size=8192): \n",
    "            f.write(chunk)"
   ]
  },
  {
   "cell_type": "markdown",
   "metadata": {},
   "source": [
    "<br><br>"
   ]
  },
  {
   "cell_type": "markdown",
   "metadata": {},
   "source": [
    "#### 3.3 Selenium: парсим динамические странички"
   ]
  },
  {
   "cell_type": "code",
   "execution_count": 140,
   "metadata": {},
   "outputs": [],
   "source": [
    "url = 'https://www.google.com/search?&q=birds'"
   ]
  },
  {
   "cell_type": "code",
   "execution_count": 141,
   "metadata": {},
   "outputs": [
    {
     "name": "stdout",
     "output_type": "stream",
     "text": [
      "200\n"
     ]
    }
   ],
   "source": [
    "response = requests.get(url)\n",
    "print(response.status_code)"
   ]
  },
  {
   "cell_type": "code",
   "execution_count": 142,
   "metadata": {},
   "outputs": [],
   "source": [
    "soup = BeautifulSoup(response.text)"
   ]
  },
  {
   "cell_type": "code",
   "execution_count": 143,
   "metadata": {},
   "outputs": [],
   "source": [
    "results = soup.find_all('h3')"
   ]
  },
  {
   "cell_type": "code",
   "execution_count": null,
   "metadata": {},
   "outputs": [],
   "source": [
    "results = soup.find_all('div', {'class': 'g'})"
   ]
  },
  {
   "cell_type": "code",
   "execution_count": 144,
   "metadata": {},
   "outputs": [
    {
     "data": {
      "text/plain": [
       "10"
      ]
     },
     "execution_count": 144,
     "metadata": {},
     "output_type": "execute_result"
    }
   ],
   "source": [
    "len(results)"
   ]
  },
  {
   "cell_type": "code",
   "execution_count": 154,
   "metadata": {},
   "outputs": [
    {
     "data": {
      "text/plain": [
       "<h3 class=\"zBAuLc\"><div class=\"BNeawe vvjwJb AP7Wnd\">For Parents, Every Day Is Bird School - The New York Times</div></h3>"
      ]
     },
     "execution_count": 154,
     "metadata": {},
     "output_type": "execute_result"
    }
   ],
   "source": [
    "results[9]"
   ]
  },
  {
   "cell_type": "markdown",
   "metadata": {},
   "source": [
    "Чтобы установить выполняем прямо в ноутбке в отдельной ячейке вот эту команду:\n",
    "    \n",
    "* `!conda install -c conda-forge selenium -y` (если у вас Anaconda)\n",
    "* `!pip install selenium -y` (если у вас не Anaconda)\n",
    "\n",
    "Либо эти же команды (но без восклицательного знака) в командной строке (Terminal, Anaconda Prompt, ...)"
   ]
  },
  {
   "cell_type": "markdown",
   "metadata": {},
   "source": [
    "Также необходим драйвер для имитации браузера. Скачать его можно\n",
    "\n",
    "* [тут](https://selenium-python.readthedocs.io/installation.html)\n",
    "* [или тут](https://www.selenium.dev/documentation/en/webdriver/driver_requirements/)"
   ]
  },
  {
   "cell_type": "code",
   "execution_count": 155,
   "metadata": {},
   "outputs": [],
   "source": [
    "from selenium import webdriver"
   ]
  },
  {
   "cell_type": "code",
   "execution_count": null,
   "metadata": {},
   "outputs": [],
   "source": [
    "?webdriver.Firefox"
   ]
  },
  {
   "cell_type": "code",
   "execution_count": 156,
   "metadata": {},
   "outputs": [],
   "source": [
    "driver = webdriver.Firefox(executable_path='/Users/magnitofon/Downloads/geckodriver')"
   ]
  },
  {
   "cell_type": "code",
   "execution_count": 157,
   "metadata": {},
   "outputs": [],
   "source": [
    "url = 'https://www.google.com/search?&q=birds'"
   ]
  },
  {
   "cell_type": "code",
   "execution_count": 158,
   "metadata": {},
   "outputs": [],
   "source": [
    "driver.get(url)"
   ]
  },
  {
   "cell_type": "code",
   "execution_count": 159,
   "metadata": {},
   "outputs": [],
   "source": [
    "soup = BeautifulSoup(driver.page_source)"
   ]
  },
  {
   "cell_type": "code",
   "execution_count": 160,
   "metadata": {},
   "outputs": [],
   "source": [
    "results = soup.find_all('div', {'class': 'g'})"
   ]
  },
  {
   "cell_type": "code",
   "execution_count": 161,
   "metadata": {},
   "outputs": [
    {
     "data": {
      "text/plain": [
       "9"
      ]
     },
     "execution_count": 161,
     "metadata": {},
     "output_type": "execute_result"
    }
   ],
   "source": [
    "len(results)"
   ]
  },
  {
   "cell_type": "code",
   "execution_count": 162,
   "metadata": {},
   "outputs": [
    {
     "name": "stdout",
     "output_type": "stream",
     "text": [
      "Birds — самый высокий ресторан и клуб в мире\n",
      "BIRDS 🦉 (@birds_354) • Instagram photos and videos\n",
      "Bird - Wikipedia\n",
      "Online bird guide, bird ID help, life history, bird sounds from ...\n",
      "bird | Description, Species, Classification, Types, & Facts ...\n",
      "Bird Pictures & Facts - National Geographic\n",
      "Birds - National Geographic Kids\n"
     ]
    }
   ],
   "source": [
    "for el in results:\n",
    "    result = el.find('h3')\n",
    "    if result:\n",
    "        print(result.text)"
   ]
  },
  {
   "cell_type": "code",
   "execution_count": 163,
   "metadata": {},
   "outputs": [],
   "source": [
    "driver.close()"
   ]
  },
  {
   "cell_type": "code",
   "execution_count": 164,
   "metadata": {},
   "outputs": [],
   "source": [
    "from selenium.webdriver.firefox.options import Options as FirefoxOptions\n",
    "from selenium import webdriver"
   ]
  },
  {
   "cell_type": "code",
   "execution_count": 165,
   "metadata": {},
   "outputs": [],
   "source": [
    "options = FirefoxOptions()\n",
    "options.add_argument(\"--headless\")"
   ]
  },
  {
   "cell_type": "code",
   "execution_count": 166,
   "metadata": {},
   "outputs": [],
   "source": [
    "driver = webdriver.Firefox(options=options, executable_path='/Users/magnitofon/Downloads/geckodriver')"
   ]
  },
  {
   "cell_type": "code",
   "execution_count": 167,
   "metadata": {},
   "outputs": [],
   "source": [
    "url = 'https://www.google.com/search?&q=birds'"
   ]
  },
  {
   "cell_type": "code",
   "execution_count": 168,
   "metadata": {},
   "outputs": [],
   "source": [
    "driver.get(url)"
   ]
  },
  {
   "cell_type": "code",
   "execution_count": 169,
   "metadata": {},
   "outputs": [],
   "source": [
    "soup = BeautifulSoup(driver.page_source)"
   ]
  },
  {
   "cell_type": "code",
   "execution_count": 170,
   "metadata": {},
   "outputs": [],
   "source": [
    "results = soup.find_all('div', {'class': 'g'})"
   ]
  },
  {
   "cell_type": "code",
   "execution_count": 171,
   "metadata": {},
   "outputs": [
    {
     "data": {
      "text/plain": [
       "9"
      ]
     },
     "execution_count": 171,
     "metadata": {},
     "output_type": "execute_result"
    }
   ],
   "source": [
    "len(results)"
   ]
  },
  {
   "cell_type": "code",
   "execution_count": 172,
   "metadata": {},
   "outputs": [],
   "source": [
    "driver.close()"
   ]
  },
  {
   "cell_type": "markdown",
   "metadata": {},
   "source": [
    "<br><br>"
   ]
  },
  {
   "cell_type": "markdown",
   "metadata": {},
   "source": [
    "#### 3.4 Пусть весь мир подождёт"
   ]
  },
  {
   "cell_type": "markdown",
   "metadata": {},
   "source": [
    "Когда хотим отправить много запросов к одному серверу, лучше ставить паузу между запросами."
   ]
  },
  {
   "cell_type": "code",
   "execution_count": 173,
   "metadata": {},
   "outputs": [],
   "source": [
    "import time"
   ]
  },
  {
   "cell_type": "code",
   "execution_count": 174,
   "metadata": {},
   "outputs": [
    {
     "name": "stdout",
     "output_type": "stream",
     "text": [
      "Hello\n",
      "Hello again\n"
     ]
    }
   ],
   "source": [
    "print('Hello')\n",
    "time.sleep(4)\n",
    "print('Hello again')"
   ]
  },
  {
   "cell_type": "markdown",
   "metadata": {},
   "source": [
    "<br><br>"
   ]
  },
  {
   "cell_type": "markdown",
   "metadata": {},
   "source": [
    "#### 3.5 Я не робот"
   ]
  },
  {
   "cell_type": "code",
   "execution_count": 175,
   "metadata": {},
   "outputs": [],
   "source": [
    "url = 'https://duckduckgo.com/?q=hello&t=h_&ia=web'"
   ]
  },
  {
   "cell_type": "code",
   "execution_count": 176,
   "metadata": {},
   "outputs": [
    {
     "name": "stdout",
     "output_type": "stream",
     "text": [
      "418\n"
     ]
    }
   ],
   "source": [
    "response = requests.get(url)\n",
    "print(response.status_code)"
   ]
  },
  {
   "cell_type": "code",
   "execution_count": 177,
   "metadata": {},
   "outputs": [],
   "source": [
    "headers = {'User-Agent': 'Mozilla/5.0 (Macintosh; Intel Mac OS X 10.14; rv:78.0) Gecko/20100101 Firefox/78.0'}"
   ]
  },
  {
   "cell_type": "code",
   "execution_count": 178,
   "metadata": {},
   "outputs": [
    {
     "name": "stdout",
     "output_type": "stream",
     "text": [
      "200\n"
     ]
    }
   ],
   "source": [
    "response = requests.get(url, headers=headers)\n",
    "print(response.status_code)"
   ]
  },
  {
   "cell_type": "markdown",
   "metadata": {},
   "source": [
    "<br><br>"
   ]
  },
  {
   "cell_type": "markdown",
   "metadata": {},
   "source": [
    "#### 3.6 Не забываем про try-except"
   ]
  },
  {
   "cell_type": "code",
   "execution_count": 179,
   "metadata": {},
   "outputs": [],
   "source": [
    "result = soup.find('h1').text"
   ]
  },
  {
   "cell_type": "code",
   "execution_count": 180,
   "metadata": {},
   "outputs": [
    {
     "name": "stdout",
     "output_type": "stream",
     "text": [
      "Специальные ссылки\n"
     ]
    }
   ],
   "source": [
    "print(result)"
   ]
  },
  {
   "cell_type": "code",
   "execution_count": 184,
   "metadata": {},
   "outputs": [
    {
     "ename": "AttributeError",
     "evalue": "'NoneType' object has no attribute 'text'",
     "output_type": "error",
     "traceback": [
      "\u001b[0;31m---------------------------------------------------------------------------\u001b[0m",
      "\u001b[0;31mAttributeError\u001b[0m                            Traceback (most recent call last)",
      "\u001b[0;32m<ipython-input-184-d50d9d795358>\u001b[0m in \u001b[0;36m<module>\u001b[0;34m\u001b[0m\n\u001b[0;32m----> 1\u001b[0;31m \u001b[0mresult\u001b[0m \u001b[0;34m=\u001b[0m \u001b[0msoup\u001b[0m\u001b[0;34m.\u001b[0m\u001b[0mfind\u001b[0m\u001b[0;34m(\u001b[0m\u001b[0;34m'h6'\u001b[0m\u001b[0;34m)\u001b[0m\u001b[0;34m.\u001b[0m\u001b[0mtext\u001b[0m\u001b[0;34m\u001b[0m\u001b[0;34m\u001b[0m\u001b[0m\n\u001b[0m",
      "\u001b[0;31mAttributeError\u001b[0m: 'NoneType' object has no attribute 'text'"
     ]
    }
   ],
   "source": [
    "result = soup.find('h6').text"
   ]
  },
  {
   "cell_type": "code",
   "execution_count": 188,
   "metadata": {},
   "outputs": [
    {
     "name": "stdout",
     "output_type": "stream",
     "text": [
      "Running Exception\n"
     ]
    }
   ],
   "source": [
    "try:\n",
    "    result = soup.find('h6').text\n",
    "except:\n",
    "    print('Running Exception')\n",
    "    result = None"
   ]
  },
  {
   "cell_type": "markdown",
   "metadata": {},
   "source": [
    "<br><br>"
   ]
  },
  {
   "cell_type": "markdown",
   "metadata": {},
   "source": [
    "#### 3.7 Можно и так"
   ]
  },
  {
   "cell_type": "code",
   "execution_count": 189,
   "metadata": {},
   "outputs": [],
   "source": [
    "from selenium.webdriver.common.action_chains import ActionChains"
   ]
  },
  {
   "cell_type": "code",
   "execution_count": 190,
   "metadata": {},
   "outputs": [],
   "source": [
    "driver = webdriver.Firefox(executable_path='/Users/magnitofon/Downloads/geckodriver')\n",
    "driver.get('https://jspaint.app')"
   ]
  },
  {
   "cell_type": "code",
   "execution_count": 191,
   "metadata": {},
   "outputs": [],
   "source": [
    "element = driver.find_element_by_css_selector('canvas.main-canvas')"
   ]
  },
  {
   "cell_type": "code",
   "execution_count": 192,
   "metadata": {},
   "outputs": [
    {
     "data": {
      "text/plain": [
       "<selenium.webdriver.common.action_chains.ActionChains at 0x7f894bebd7d0>"
      ]
     },
     "execution_count": 192,
     "metadata": {},
     "output_type": "execute_result"
    }
   ],
   "source": [
    "action_chain = ActionChains(driver)\n",
    "action_chain.move_to_element(element)\n",
    "\n",
    "action_chain.click_and_hold()\n",
    "action_chain.move_by_offset(xoffset=0, yoffset=50)\n",
    "action_chain.release()\n",
    "\n",
    "action_chain.move_by_offset(xoffset=0, yoffset=-25)\n",
    "action_chain.click_and_hold()\n",
    "action_chain.move_by_offset(xoffset=20, yoffset=0)\n",
    "action_chain.move_by_offset(xoffset=0, yoffset=-25)\n",
    "action_chain.move_by_offset(xoffset=0, yoffset=50)\n",
    "action_chain.release()\n",
    "\n",
    "\n",
    "action_chain.move_by_offset(xoffset=20, yoffset=-50)\n",
    "action_chain.click_and_hold()\n",
    "action_chain.move_by_offset(xoffset=0, yoffset=50)\n",
    "action_chain.release()"
   ]
  },
  {
   "cell_type": "code",
   "execution_count": 193,
   "metadata": {},
   "outputs": [],
   "source": [
    "action_chain.perform()"
   ]
  },
  {
   "cell_type": "code",
   "execution_count": 194,
   "metadata": {},
   "outputs": [],
   "source": [
    "driver.close()"
   ]
  },
  {
   "cell_type": "markdown",
   "metadata": {},
   "source": [
    "Читайте [документацию](https://selenium-python.readthedocs.io/index.html)"
   ]
  },
  {
   "cell_type": "markdown",
   "metadata": {},
   "source": [
    "<br><br>\n",
    "\n",
    "**Что знаем и умеем?**\n",
    "\n",
    "* Умеем качать файлы\n",
    "* Знаем, как добавить паузы между запросами\n",
    "* Знаем, как установить headers как у браузера\n",
    "* Помним про `try-except`\n",
    "* Можем получить HTML-код динамической страницы с помощью `Selenium`\n",
    "\n",
    "\n",
    "**Хорошо бы**\n",
    "\n",
    "* Заботать [регулярные выражения](https://docs.python.org/3.7/howto/regex.html#regex-howto) и основы [CSS](https://www.w3schools.com/css/) - так легче находить нужные элементы\n",
    "* Разузнать подробнее про `GET` и `POST`-запросы. Научиться посылать `POST`-запросы с помощью `requests`\n",
    "* Разузнать про `cookie` и как поодерживать юзер-сессию с помощью `requests`\n",
    "* Узнать больше про Selenium\n",
    "* Узнать, как посылать запросы асинхронно (см `asyncio` и `aiohttp`)\n",
    "* Узнать, что такое API"
   ]
  },
  {
   "cell_type": "code",
   "execution_count": null,
   "metadata": {},
   "outputs": [],
   "source": []
  }
 ],
 "metadata": {
  "kernelspec": {
   "display_name": "Python 3",
   "language": "python",
   "name": "python3"
  },
  "language_info": {
   "codemirror_mode": {
    "name": "ipython",
    "version": 3
   },
   "file_extension": ".py",
   "mimetype": "text/x-python",
   "name": "python",
   "nbconvert_exporter": "python",
   "pygments_lexer": "ipython3",
   "version": "3.7.9"
  }
 },
 "nbformat": 4,
 "nbformat_minor": 4
}
