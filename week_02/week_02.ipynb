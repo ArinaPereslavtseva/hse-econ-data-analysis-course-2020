{
 "cells": [
  {
   "cell_type": "markdown",
   "metadata": {},
   "source": [
    "# Лекция №2. Введение в python, часть 2"
   ]
  },
  {
   "cell_type": "markdown",
   "metadata": {},
   "source": [
    "### 1. Работа с файлами"
   ]
  },
  {
   "cell_type": "code",
   "execution_count": null,
   "metadata": {},
   "outputs": [],
   "source": [
    "# смотрим адрес текущей директории\n",
    "!pwd"
   ]
  },
  {
   "cell_type": "code",
   "execution_count": null,
   "metadata": {},
   "outputs": [],
   "source": [
    "# посмотреть, какие файлы наличиствуют в текущей директории\n",
    "!ls"
   ]
  },
  {
   "cell_type": "code",
   "execution_count": null,
   "metadata": {},
   "outputs": [],
   "source": [
    "# посмотреть, какие файлы наличиствуют в некоторой конкретной директории\n",
    "!ls /Users/magnitofon/Documents/JupyterNotebooks/hse-econ-data-analysis-course-2020/"
   ]
  },
  {
   "cell_type": "code",
   "execution_count": null,
   "metadata": {},
   "outputs": [],
   "source": [
    "# октрываем файл из текущей директории\n",
    "f = open('zoo.txt')\n",
    "text = f.read()\n",
    "f.close()"
   ]
  },
  {
   "cell_type": "code",
   "execution_count": null,
   "metadata": {},
   "outputs": [],
   "source": [
    "# win\n",
    "# f = open('C:\\\\Users\\\\student\\\\Desktop\\\\week_01\\\\zoo.txt')\n",
    "f = open('/Users/magnitofon/Documents/JupyterNotebooks/hse-econ-data-analysis-course-2020/week_02/zoo.txt')\n",
    "text = f.read()\n",
    "f.close()"
   ]
  },
  {
   "cell_type": "code",
   "execution_count": null,
   "metadata": {},
   "outputs": [],
   "source": [
    "f = open('zoo.txt') #put name of the file that you have in this folder\n",
    "text = f.read()\n",
    "f.close()"
   ]
  },
  {
   "cell_type": "code",
   "execution_count": null,
   "metadata": {},
   "outputs": [],
   "source": [
    "# но лучше так\n",
    "with open('zoo.txt', 'r') as f:\n",
    "    text = f.read()"
   ]
  },
  {
   "cell_type": "code",
   "execution_count": null,
   "metadata": {},
   "outputs": [],
   "source": [
    "# ещё лучше - так\n",
    "# потому что так мы обрабатываем файл построчно: в 1 момент времени в памяти компьютера - одна строка.\n",
    "# это позволяет обрабатывать файлы большого объема\n",
    "\n",
    "text = ''\n",
    "\n",
    "with open('zoo.txt', 'r') as f:\n",
    "    for line in f:\n",
    "        text += line"
   ]
  },
  {
   "cell_type": "code",
   "execution_count": null,
   "metadata": {},
   "outputs": [],
   "source": []
  },
  {
   "cell_type": "code",
   "execution_count": null,
   "metadata": {
    "ExecuteTime": {
     "end_time": "2017-11-18T08:42:35.155275Z",
     "start_time": "2017-11-18T08:42:35.149597Z"
    }
   },
   "outputs": [],
   "source": [
    "#можно создать новый файл/открыть файл на запись (но будте осторожны!)\n",
    "\n",
    "# r - read\n",
    "# w - write\n",
    "# a - append\n",
    "\n",
    "f = open('test_file_01.txt', 'w')\n",
    " \n",
    "f.write('Hello World! ')\n",
    "f.write('My name is Katya!\\n')\n",
    "f.write('This is our new text file\\n')\n",
    "f.write('and this is another line.\\n')\n",
    "f.write('Why? Because we can.')\n",
    " \n",
    "f.close() "
   ]
  },
  {
   "cell_type": "markdown",
   "metadata": {},
   "source": [
    "Записывать в файл можно так"
   ]
  },
  {
   "cell_type": "code",
   "execution_count": null,
   "metadata": {},
   "outputs": [],
   "source": [
    "#можно создать новый файл/открыть файл на запись (но будте осторожны!)\n",
    "\n",
    "# r - read\n",
    "# w - write\n",
    "# a - append\n",
    "\n",
    "with open('testfile.txt', 'w') as f:\n",
    "    f.write('Hello World! ')\n",
    "    f.write('My name is Ilya!\\n')\n",
    "    f.write('This is our new text file\\n')\n",
    "    f.write('and this is another line.\\n')\n",
    "    f.write('Why? Because we can.')"
   ]
  },
  {
   "cell_type": "code",
   "execution_count": null,
   "metadata": {},
   "outputs": [],
   "source": [
    "with open('testfile.txt', 'a') as f:\n",
    "    f.write('Hello again! ')"
   ]
  },
  {
   "cell_type": "code",
   "execution_count": null,
   "metadata": {},
   "outputs": [],
   "source": [
    "with open('testfile.txt', 'a') as f:\n",
    "    print(2**8, file=f)"
   ]
  },
  {
   "cell_type": "code",
   "execution_count": null,
   "metadata": {},
   "outputs": [],
   "source": [
    "print('aaa')\n",
    "print('bbb')"
   ]
  },
  {
   "cell_type": "code",
   "execution_count": null,
   "metadata": {
    "ExecuteTime": {
     "end_time": "2017-11-18T08:43:42.603427Z",
     "start_time": "2017-11-18T08:43:42.597221Z"
    }
   },
   "outputs": [],
   "source": [
    "f = open('test_file_02.txt','w') \n",
    " \n",
    "print('Hello', file=f)\n",
    "print(2**8, file=f)\n",
    "\n",
    "f.close()"
   ]
  },
  {
   "cell_type": "code",
   "execution_count": null,
   "metadata": {},
   "outputs": [],
   "source": [
    "with open('test_file_02.txt','w') as f:\n",
    "    print('Hello', file=f)\n",
    "    print(2**8, file=f)\n",
    "    print(2**9, file=f)\n",
    "    print('Hello', file=f)\n",
    "    print('Hello', file=f)\n",
    "    print('Hello', file=f)"
   ]
  },
  {
   "cell_type": "markdown",
   "metadata": {},
   "source": [
    "**Что знаем и умеем?**\n",
    "\n",
    "* `pwd` - print working directory\n",
    "* `ls` - list\n",
    "* Чтение файла\n",
    "    * Чтение файла полностью\n",
    "    * Чтение файла через контескст (конструкция `with open(...)`)\n",
    "    * Чтение файла построчно\n",
    "* Запись в файл\n",
    "    * Запись в файл\n",
    "    * Запись в файл через контекст (конструкция `with open(...)`)\n",
    "    * Дозапись в файл (параметр `a`)"
   ]
  },
  {
   "cell_type": "markdown",
   "metadata": {},
   "source": [
    "<br><br>\n",
    "## 2. Тип данных dict - словарь"
   ]
  },
  {
   "cell_type": "markdown",
   "metadata": {},
   "source": [
    "Состоят из пар ключ-значение\n",
    "\n",
    "Словарь по ключу мгновенно дает посмотреть значение"
   ]
  },
  {
   "cell_type": "code",
   "execution_count": null,
   "metadata": {},
   "outputs": [],
   "source": [
    "slovar = dict()\n",
    "slovar = {}"
   ]
  },
  {
   "cell_type": "code",
   "execution_count": null,
   "metadata": {},
   "outputs": [],
   "source": [
    "slovar['Пожарная служба'] = 112"
   ]
  },
  {
   "cell_type": "code",
   "execution_count": null,
   "metadata": {},
   "outputs": [],
   "source": [
    "pair = ('Пожарная служба', 112)\n",
    "phone_list = []\n",
    "phone_list = [('Голубев', '27384927539'), ('Пожарная служба', 112)]"
   ]
  },
  {
   "cell_type": "code",
   "execution_count": null,
   "metadata": {
    "ExecuteTime": {
     "end_time": "2019-11-12T12:47:03.534136Z",
     "start_time": "2019-11-12T12:47:03.492581Z"
    }
   },
   "outputs": [],
   "source": [
    "phone_list = [('Голубев', '27384927539')] * 10000000"
   ]
  },
  {
   "cell_type": "code",
   "execution_count": null,
   "metadata": {
    "ExecuteTime": {
     "end_time": "2019-11-12T12:47:04.240219Z",
     "start_time": "2019-11-12T12:47:04.235395Z"
    }
   },
   "outputs": [],
   "source": [
    "phone_list += [('Пожарная служба', 112)]"
   ]
  },
  {
   "cell_type": "code",
   "execution_count": null,
   "metadata": {
    "ExecuteTime": {
     "end_time": "2019-11-12T12:46:55.315438Z",
     "start_time": "2019-11-12T12:46:55.308850Z"
    }
   },
   "outputs": [],
   "source": [
    "def get_me_a_numer(client):\n",
    "    for pair in phone_list:\n",
    "        abonent = pair[0]\n",
    "        phone_num = pair[1]\n",
    "        if abonent == client:\n",
    "            return (abonent, phone_num)\n",
    "            \n",
    "def get_me_a_numer_from_slovar(client, slovar):\n",
    "    return slovar[client]"
   ]
  },
  {
   "cell_type": "code",
   "execution_count": null,
   "metadata": {
    "ExecuteTime": {
     "end_time": "2019-11-12T12:47:44.343153Z",
     "start_time": "2019-11-12T12:47:37.824613Z"
    }
   },
   "outputs": [],
   "source": [
    "my_dict = {}\n",
    "\n",
    "for i in range(10000000):\n",
    "    my_dict['client' + str(i)] = 123123123122312\n",
    "    \n",
    "my_dict['Пожарная служба'] = 112"
   ]
  },
  {
   "cell_type": "code",
   "execution_count": null,
   "metadata": {
    "ExecuteTime": {
     "end_time": "2019-11-12T12:47:45.260828Z",
     "start_time": "2019-11-12T12:47:45.249793Z"
    }
   },
   "outputs": [],
   "source": [
    "my_dict['Пожарная служба']"
   ]
  },
  {
   "cell_type": "markdown",
   "metadata": {
    "ExecuteTime": {
     "end_time": "2019-11-12T12:46:27.520645Z",
     "start_time": "2019-11-12T12:46:27.514790Z"
    }
   },
   "source": [
    "Сравнение скорости поиска нужного номера в списке и в словаре"
   ]
  },
  {
   "cell_type": "code",
   "execution_count": null,
   "metadata": {},
   "outputs": [],
   "source": [
    "%timeit get_me_a_numer('Пожарная служба')"
   ]
  },
  {
   "cell_type": "code",
   "execution_count": null,
   "metadata": {},
   "outputs": [],
   "source": [
    "%timeit get_me_a_numer_from_slovar('Пожарная служба', my_dict)"
   ]
  },
  {
   "cell_type": "markdown",
   "metadata": {
    "ExecuteTime": {
     "end_time": "2019-11-12T12:48:28.187983Z",
     "start_time": "2019-11-12T12:48:28.178722Z"
    }
   },
   "source": [
    "Доступ к элементу через скобки VS через .get"
   ]
  },
  {
   "cell_type": "code",
   "execution_count": null,
   "metadata": {},
   "outputs": [],
   "source": [
    "my_dict['Пожарная служба']"
   ]
  },
  {
   "cell_type": "code",
   "execution_count": null,
   "metadata": {},
   "outputs": [],
   "source": [
    "my_dict.get('Пожарная служба')"
   ]
  },
  {
   "cell_type": "code",
   "execution_count": null,
   "metadata": {
    "ExecuteTime": {
     "end_time": "2019-11-12T12:48:43.256205Z",
     "start_time": "2019-11-12T12:48:43.245564Z"
    }
   },
   "outputs": [],
   "source": [
    "my_dict['Отсутсвующий ключ']"
   ]
  },
  {
   "cell_type": "code",
   "execution_count": null,
   "metadata": {
    "ExecuteTime": {
     "end_time": "2019-11-12T12:48:51.776539Z",
     "start_time": "2019-11-12T12:48:51.773285Z"
    }
   },
   "outputs": [],
   "source": [
    "my_dict.get('Отсутсвующий ключ')"
   ]
  },
  {
   "cell_type": "code",
   "execution_count": null,
   "metadata": {
    "ExecuteTime": {
     "end_time": "2019-11-12T12:48:57.615663Z",
     "start_time": "2019-11-12T12:48:57.611831Z"
    }
   },
   "outputs": [],
   "source": [
    "otvet = my_dict.get('lalala')"
   ]
  },
  {
   "cell_type": "code",
   "execution_count": null,
   "metadata": {
    "ExecuteTime": {
     "end_time": "2019-11-12T12:48:57.926116Z",
     "start_time": "2019-11-12T12:48:57.919846Z"
    }
   },
   "outputs": [],
   "source": [
    "otvet is None"
   ]
  },
  {
   "cell_type": "code",
   "execution_count": null,
   "metadata": {},
   "outputs": [],
   "source": [
    "my_dict = {'lala': 3, 'police': 911}"
   ]
  },
  {
   "cell_type": "code",
   "execution_count": null,
   "metadata": {
    "ExecuteTime": {
     "end_time": "2017-11-18T08:46:58.753777Z",
     "start_time": "2017-11-18T08:46:58.750507Z"
    }
   },
   "outputs": [],
   "source": [
    "phones = {'police': 102, 'ambulance': 103, 'firefighters': 101}"
   ]
  },
  {
   "cell_type": "code",
   "execution_count": null,
   "metadata": {},
   "outputs": [],
   "source": [
    "# добавить к my_dict ключи-значения из phones\n",
    "my_dict.update(phones)"
   ]
  },
  {
   "cell_type": "code",
   "execution_count": null,
   "metadata": {},
   "outputs": [],
   "source": [
    "my_dict.update(phones)"
   ]
  },
  {
   "cell_type": "code",
   "execution_count": null,
   "metadata": {},
   "outputs": [],
   "source": [
    "a = 5"
   ]
  },
  {
   "cell_type": "code",
   "execution_count": null,
   "metadata": {},
   "outputs": [],
   "source": [
    "a += 5"
   ]
  },
  {
   "cell_type": "code",
   "execution_count": null,
   "metadata": {},
   "outputs": [],
   "source": [
    "a"
   ]
  },
  {
   "cell_type": "code",
   "execution_count": null,
   "metadata": {},
   "outputs": [],
   "source": [
    "my_dict"
   ]
  },
  {
   "cell_type": "code",
   "execution_count": null,
   "metadata": {
    "ExecuteTime": {
     "end_time": "2017-11-17T20:32:40.493986Z",
     "start_time": "2017-11-17T20:32:40.490546Z"
    }
   },
   "outputs": [],
   "source": [
    "list(phones.keys())"
   ]
  },
  {
   "cell_type": "code",
   "execution_count": null,
   "metadata": {
    "ExecuteTime": {
     "end_time": "2017-11-18T08:48:09.230210Z",
     "start_time": "2017-11-18T08:48:09.225211Z"
    }
   },
   "outputs": [],
   "source": [
    "list(phones.values())"
   ]
  },
  {
   "cell_type": "code",
   "execution_count": null,
   "metadata": {
    "ExecuteTime": {
     "end_time": "2017-11-17T21:33:28.490527Z",
     "start_time": "2017-11-17T21:33:28.486351Z"
    }
   },
   "outputs": [],
   "source": [
    "phones.items()"
   ]
  },
  {
   "cell_type": "code",
   "execution_count": null,
   "metadata": {},
   "outputs": [],
   "source": [
    "list(phones.items())"
   ]
  },
  {
   "cell_type": "code",
   "execution_count": null,
   "metadata": {},
   "outputs": [],
   "source": [
    "phones[tuple([1,2])] = 2"
   ]
  },
  {
   "cell_type": "code",
   "execution_count": null,
   "metadata": {},
   "outputs": [],
   "source": [
    "phones[6] = 3"
   ]
  },
  {
   "cell_type": "code",
   "execution_count": null,
   "metadata": {},
   "outputs": [],
   "source": [
    "phones[True] = 2"
   ]
  },
  {
   "cell_type": "code",
   "execution_count": null,
   "metadata": {},
   "outputs": [],
   "source": [
    "phones"
   ]
  },
  {
   "cell_type": "code",
   "execution_count": null,
   "metadata": {
    "ExecuteTime": {
     "end_time": "2017-11-17T21:59:14.804776Z",
     "start_time": "2017-11-17T21:59:14.800974Z"
    }
   },
   "outputs": [],
   "source": [
    "for item in phones.items():\n",
    "    client, phone = item\n",
    "    print(client, phone)"
   ]
  },
  {
   "cell_type": "code",
   "execution_count": null,
   "metadata": {},
   "outputs": [],
   "source": [
    "# \"распечатывание\" кортежей (списков, строк) на отдельные переменные\n",
    "a, b, _, _ = (1, 2, 3, 4)\n",
    "print(a,b)"
   ]
  },
  {
   "cell_type": "code",
   "execution_count": null,
   "metadata": {},
   "outputs": [],
   "source": [
    "for key in phones.items():\n",
    "    print(key)"
   ]
  },
  {
   "cell_type": "code",
   "execution_count": null,
   "metadata": {
    "ExecuteTime": {
     "end_time": "2017-11-17T21:33:52.203502Z",
     "start_time": "2017-11-17T21:33:52.199682Z"
    }
   },
   "outputs": [],
   "source": [
    "for key, value in phones.items():\n",
    "    print(key, value)"
   ]
  },
  {
   "cell_type": "markdown",
   "metadata": {},
   "source": [
    "**Что знаем и умеем?**\n",
    "\n",
    "* Что такое словарь? Чем он хорош?\n",
    "* Умеем инициализировать словарь.\n",
    "    * Создание пустого словаря\n",
    "    * Создание словаря со значениями\n",
    "* Умеем присваивание значеня ключам\n",
    "* Получение значения по ключу\n",
    "    * Получение значения через квадратные скобки `slovar[some_key]`\n",
    "    * Получение значения через метод get: `slovar.get(some_key)`\n",
    "    * В чём различия?\n",
    "* Умеем получить список всех ключей\n",
    "* Умеем получить список всех ключей\n",
    "* Умеем удалить ключ\n",
    "* Методы словаря\n",
    "    * `get`\n",
    "    * `update`\n",
    "    * `keys`\n",
    "    * `values`\n",
    "    * `items`\n",
    "* Зачем всё таки могут понадобиться кортежи (tuple)?\n",
    "* Объект \"ничто\" `None`. Проверка на ничто"
   ]
  },
  {
   "cell_type": "markdown",
   "metadata": {
    "ExecuteTime": {
     "end_time": "2017-11-17T20:32:59.669463Z",
     "start_time": "2017-11-17T20:32:59.666668Z"
    }
   },
   "source": [
    "<br><br>\n",
    "## 3. Усиленный dict: типы defaultdict and Counter"
   ]
  },
  {
   "cell_type": "markdown",
   "metadata": {},
   "source": [
    "Counter - счетчик, обобщение словаря. Удобен для подсчетов элементов"
   ]
  },
  {
   "cell_type": "code",
   "execution_count": null,
   "metadata": {},
   "outputs": [],
   "source": [
    "from collections import defaultdict, Counter"
   ]
  },
  {
   "cell_type": "code",
   "execution_count": null,
   "metadata": {},
   "outputs": [],
   "source": [
    "var = Counter({'aaa': 2})"
   ]
  },
  {
   "cell_type": "code",
   "execution_count": null,
   "metadata": {},
   "outputs": [],
   "source": [
    "fruit = ['apple', 'apple', 'orange', 'pear']"
   ]
  },
  {
   "cell_type": "code",
   "execution_count": null,
   "metadata": {},
   "outputs": [],
   "source": [
    "var = Counter(fruit)"
   ]
  },
  {
   "cell_type": "code",
   "execution_count": null,
   "metadata": {},
   "outputs": [],
   "source": [
    "var"
   ]
  },
  {
   "cell_type": "code",
   "execution_count": null,
   "metadata": {},
   "outputs": [],
   "source": [
    "var.most_common(1)"
   ]
  },
  {
   "cell_type": "code",
   "execution_count": null,
   "metadata": {},
   "outputs": [],
   "source": [
    "var['123123']"
   ]
  },
  {
   "cell_type": "code",
   "execution_count": null,
   "metadata": {},
   "outputs": [],
   "source": [
    "var = 123"
   ]
  },
  {
   "cell_type": "code",
   "execution_count": null,
   "metadata": {},
   "outputs": [],
   "source": [
    "var = defaultdict(list)"
   ]
  },
  {
   "cell_type": "code",
   "execution_count": null,
   "metadata": {},
   "outputs": [],
   "source": [
    "var['asdasdas']"
   ]
  },
  {
   "cell_type": "code",
   "execution_count": null,
   "metadata": {},
   "outputs": [],
   "source": [
    "with open('zoo.txt') as zoo_file:\n",
    "    text = zoo_file.read()\n",
    "    \n",
    "print(Counter(text.split()).most_common(10))"
   ]
  },
  {
   "cell_type": "code",
   "execution_count": null,
   "metadata": {},
   "outputs": [],
   "source": [
    "slovar = {1: 'asdasd', 2: 3, 3: 1}\n",
    "kounter = Counter(slovar)"
   ]
  },
  {
   "cell_type": "code",
   "execution_count": null,
   "metadata": {},
   "outputs": [],
   "source": [
    "a = Counter()\n",
    "a = defaultdict(int)"
   ]
  },
  {
   "cell_type": "code",
   "execution_count": null,
   "metadata": {},
   "outputs": [],
   "source": [
    "a = list()"
   ]
  },
  {
   "cell_type": "code",
   "execution_count": null,
   "metadata": {},
   "outputs": [],
   "source": [
    "a"
   ]
  },
  {
   "cell_type": "code",
   "execution_count": null,
   "metadata": {},
   "outputs": [],
   "source": [
    "kounter"
   ]
  },
  {
   "cell_type": "code",
   "execution_count": null,
   "metadata": {},
   "outputs": [],
   "source": [
    "a"
   ]
  },
  {
   "cell_type": "code",
   "execution_count": null,
   "metadata": {},
   "outputs": [],
   "source": [
    "a = {1: 4, 2: 3, 3: 1}"
   ]
  },
  {
   "cell_type": "code",
   "execution_count": null,
   "metadata": {},
   "outputs": [],
   "source": [
    "a"
   ]
  },
  {
   "cell_type": "code",
   "execution_count": null,
   "metadata": {},
   "outputs": [],
   "source": [
    "a[10]"
   ]
  },
  {
   "cell_type": "code",
   "execution_count": null,
   "metadata": {},
   "outputs": [],
   "source": [
    "text = text.lower()\n",
    "for punct in ',.!;':\n",
    "    text = text.replace(punct, '')\n",
    "    \n",
    "text_list = text.split()\n",
    "\n",
    "word_counts = Counter(text_list)"
   ]
  },
  {
   "cell_type": "code",
   "execution_count": null,
   "metadata": {},
   "outputs": [],
   "source": [
    "a = Counter({'яблоки' : 115})"
   ]
  },
  {
   "cell_type": "code",
   "execution_count": null,
   "metadata": {},
   "outputs": [],
   "source": [
    "a['яблоки'] = 10"
   ]
  },
  {
   "cell_type": "code",
   "execution_count": null,
   "metadata": {},
   "outputs": [],
   "source": [
    "a"
   ]
  },
  {
   "cell_type": "code",
   "execution_count": null,
   "metadata": {},
   "outputs": [],
   "source": [
    "# меньшие по встречаемости\n",
    "word_counts.most_common()[::-1][:3]"
   ]
  },
  {
   "cell_type": "code",
   "execution_count": null,
   "metadata": {},
   "outputs": [],
   "source": [
    "word_counts['холодильник'] += 1"
   ]
  },
  {
   "cell_type": "code",
   "execution_count": null,
   "metadata": {},
   "outputs": [],
   "source": [
    "a = defaultdict(list)\n",
    "a.update({'police': 102, 'ambulance': 103, 'firefighters': 101})\n"
   ]
  },
  {
   "cell_type": "code",
   "execution_count": null,
   "metadata": {},
   "outputs": [],
   "source": [
    "animals = ['cat', 'tiger']\n",
    "\n",
    "text = 'asdashf adsgfjsd hglahsd l bad cat fasjdfg;lasg good cat afdasfasgd evil tiger'\n",
    "text = text.split()\n",
    "animal_properties = defaultdict(list)\n",
    "\n",
    "for index, el in enumerate(text):\n",
    "    if el in animals:\n",
    "        animal_properties[el].append(text[index - 1])"
   ]
  },
  {
   "cell_type": "code",
   "execution_count": null,
   "metadata": {},
   "outputs": [],
   "source": [
    "animal_properties = defaultdict(list)"
   ]
  },
  {
   "cell_type": "code",
   "execution_count": null,
   "metadata": {},
   "outputs": [],
   "source": [
    "animal_properties = {}"
   ]
  },
  {
   "cell_type": "code",
   "execution_count": null,
   "metadata": {},
   "outputs": [],
   "source": [
    "animal_properties['cat'].append(2)"
   ]
  },
  {
   "cell_type": "code",
   "execution_count": null,
   "metadata": {},
   "outputs": [],
   "source": [
    "animal_properties"
   ]
  },
  {
   "cell_type": "code",
   "execution_count": null,
   "metadata": {
    "ExecuteTime": {
     "end_time": "2017-11-17T21:37:02.274654Z",
     "start_time": "2017-11-17T21:37:02.263455Z"
    }
   },
   "outputs": [],
   "source": [
    "from collections import defaultdict, Counter\n",
    "new_phones = defaultdict(int)\n",
    "phones['Kate']\n",
    "new_phones['Kate']"
   ]
  },
  {
   "cell_type": "code",
   "execution_count": null,
   "metadata": {},
   "outputs": [],
   "source": [
    "from collections import Counter"
   ]
  },
  {
   "cell_type": "markdown",
   "metadata": {},
   "source": [
    "defaultdict(int) - это то же самое, что и Counter. значение по умолчанию 0, то есть если ключа нет в словаре - возвращает 0.\n",
    "\n",
    "defaultdict(list) - значение по умолчанию - пустой список, то есть если ключ отсутсвует, возвращает пустой список."
   ]
  },
  {
   "cell_type": "markdown",
   "metadata": {},
   "source": [
    "**Что знаем и умеем?**\n",
    "\n",
    "* Что такое Counter? В чём отличие от словаря?\n",
    "* Что такое defaultdict? В чём отличие от Counter?\n",
    "* Умеем превращать словарь в Counter\n",
    "* Метод `most_common`\n",
    "    * Умеем получить top-10 \n",
    "    * Умеем получить bottom-10"
   ]
  },
  {
   "cell_type": "markdown",
   "metadata": {},
   "source": [
    "<br><br>\n",
    "## 4. Функция sorted"
   ]
  },
  {
   "cell_type": "code",
   "execution_count": null,
   "metadata": {},
   "outputs": [],
   "source": [
    "sorted('avvddD')"
   ]
  },
  {
   "cell_type": "code",
   "execution_count": null,
   "metadata": {},
   "outputs": [],
   "source": [
    "?sorted"
   ]
  },
  {
   "cell_type": "code",
   "execution_count": null,
   "metadata": {
    "ExecuteTime": {
     "end_time": "2017-11-17T22:00:28.058818Z",
     "start_time": "2017-11-17T22:00:28.053661Z"
    }
   },
   "outputs": [],
   "source": [
    "my_list = [4, 5, 1, -100, 1, 2, 5]"
   ]
  },
  {
   "cell_type": "code",
   "execution_count": null,
   "metadata": {},
   "outputs": [],
   "source": [
    "new_list = sorted(my_list)"
   ]
  },
  {
   "cell_type": "code",
   "execution_count": null,
   "metadata": {},
   "outputs": [],
   "source": [
    "new_list"
   ]
  },
  {
   "cell_type": "code",
   "execution_count": null,
   "metadata": {},
   "outputs": [],
   "source": [
    "my_list"
   ]
  },
  {
   "cell_type": "code",
   "execution_count": null,
   "metadata": {},
   "outputs": [],
   "source": [
    "new_list = my_list.sort()"
   ]
  },
  {
   "cell_type": "code",
   "execution_count": null,
   "metadata": {},
   "outputs": [],
   "source": [
    "new_list is None"
   ]
  },
  {
   "cell_type": "code",
   "execution_count": null,
   "metadata": {},
   "outputs": [],
   "source": [
    "my_list"
   ]
  },
  {
   "cell_type": "code",
   "execution_count": null,
   "metadata": {},
   "outputs": [],
   "source": [
    "sorted(my_list) # возвращает отсортированный список\n",
    "my_list.sort() # ничего не возвращает: сортирует переменную на месте"
   ]
  },
  {
   "cell_type": "code",
   "execution_count": null,
   "metadata": {},
   "outputs": [],
   "source": []
  },
  {
   "cell_type": "code",
   "execution_count": null,
   "metadata": {
    "ExecuteTime": {
     "end_time": "2017-11-17T22:12:49.766900Z",
     "start_time": "2017-11-17T22:12:49.761999Z"
    }
   },
   "outputs": [],
   "source": [
    "my_lines = ['aa', 'a', 'ab', '', '_', 'A']\n",
    "sorted(my_lines)"
   ]
  },
  {
   "cell_type": "code",
   "execution_count": null,
   "metadata": {
    "ExecuteTime": {
     "end_time": "2017-11-18T09:16:15.917700Z",
     "start_time": "2017-11-18T09:16:15.909988Z"
    }
   },
   "outputs": [],
   "source": [
    "my_dict = {4: 'a', 5: 'c', 1: 'a', -100: 'z', 1: 'd', 2: 'e', 5: 'k'}\n",
    "my_dict"
   ]
  },
  {
   "cell_type": "code",
   "execution_count": null,
   "metadata": {
    "ExecuteTime": {
     "end_time": "2017-11-18T09:16:17.325128Z",
     "start_time": "2017-11-18T09:16:17.319785Z"
    }
   },
   "outputs": [],
   "source": [
    "sorted(my_dict)"
   ]
  },
  {
   "cell_type": "code",
   "execution_count": null,
   "metadata": {
    "ExecuteTime": {
     "end_time": "2017-11-18T09:16:18.279931Z",
     "start_time": "2017-11-18T09:16:18.273514Z"
    }
   },
   "outputs": [],
   "source": [
    "sorted(my_dict.values())"
   ]
  },
  {
   "cell_type": "code",
   "execution_count": null,
   "metadata": {
    "ExecuteTime": {
     "end_time": "2017-11-18T09:17:27.690762Z",
     "start_time": "2017-11-18T09:17:27.686502Z"
    }
   },
   "outputs": [],
   "source": [
    "my_dict.items()"
   ]
  },
  {
   "cell_type": "code",
   "execution_count": null,
   "metadata": {
    "ExecuteTime": {
     "end_time": "2017-11-17T22:00:56.244649Z",
     "start_time": "2017-11-17T22:00:56.240231Z"
    }
   },
   "outputs": [],
   "source": [
    "sorted(my_dict.items())"
   ]
  },
  {
   "cell_type": "code",
   "execution_count": null,
   "metadata": {
    "ExecuteTime": {
     "end_time": "2017-11-17T22:01:14.310436Z",
     "start_time": "2017-11-17T22:01:14.305866Z"
    }
   },
   "outputs": [],
   "source": [
    "sorted(my_dict.items(), reverse=True)"
   ]
  },
  {
   "cell_type": "markdown",
   "metadata": {},
   "source": [
    "Иногда хочется отсортировать, скажем, список из кортежей по второму элементу (по умолчанию сортировка идет по первому)"
   ]
  },
  {
   "cell_type": "code",
   "execution_count": null,
   "metadata": {
    "ExecuteTime": {
     "end_time": "2017-11-17T22:02:48.961649Z",
     "start_time": "2017-11-17T22:02:48.958707Z"
    }
   },
   "outputs": [],
   "source": [
    "def get_second_elem(x):\n",
    "    return x[0]"
   ]
  },
  {
   "cell_type": "code",
   "execution_count": null,
   "metadata": {},
   "outputs": [],
   "source": [
    "my_dict.items()"
   ]
  },
  {
   "cell_type": "code",
   "execution_count": null,
   "metadata": {
    "ExecuteTime": {
     "end_time": "2017-11-17T22:02:49.549085Z",
     "start_time": "2017-11-17T22:02:49.544725Z"
    }
   },
   "outputs": [],
   "source": [
    "sorted(my_dict.items(), key=get_second_elem)"
   ]
  },
  {
   "cell_type": "code",
   "execution_count": null,
   "metadata": {},
   "outputs": [],
   "source": [
    "def get_second_elem(x):\n",
    "    return x[0]"
   ]
  },
  {
   "cell_type": "code",
   "execution_count": null,
   "metadata": {},
   "outputs": [],
   "source": [
    "sorted(my_dict.items(), key=lambda x: x[1])"
   ]
  },
  {
   "cell_type": "code",
   "execution_count": null,
   "metadata": {},
   "outputs": [],
   "source": [
    "# lambda-функции - инструмент для быстрого определения простых функций\n",
    "get_second_elem = lambda x : x[1]"
   ]
  },
  {
   "cell_type": "code",
   "execution_count": null,
   "metadata": {},
   "outputs": [],
   "source": [
    "square = lambda x: x**2\n",
    "print(square(5))"
   ]
  },
  {
   "cell_type": "code",
   "execution_count": null,
   "metadata": {},
   "outputs": [],
   "source": [
    "sorted(my_dict.items(), key=lambda x : x[1])"
   ]
  },
  {
   "cell_type": "code",
   "execution_count": null,
   "metadata": {},
   "outputs": [],
   "source": [
    "sorted(korobki, key=lambda x : x[2])"
   ]
  },
  {
   "cell_type": "code",
   "execution_count": null,
   "metadata": {
    "ExecuteTime": {
     "end_time": "2017-11-17T22:02:51.549772Z",
     "start_time": "2017-11-17T22:02:51.545281Z"
    }
   },
   "outputs": [],
   "source": [
    "sorted(my_dict.items(), key=lambda x: x[1])"
   ]
  },
  {
   "cell_type": "markdown",
   "metadata": {},
   "source": [
    "**Пример**:  Дана фильмография актера. Отсортируйте фильмы по годам от новых к старым:"
   ]
  },
  {
   "cell_type": "code",
   "execution_count": null,
   "metadata": {
    "ExecuteTime": {
     "end_time": "2017-11-17T22:18:26.729985Z",
     "start_time": "2017-11-17T22:18:26.721428Z"
    }
   },
   "outputs": [],
   "source": [
    "movies = \"\"\"1983  ф Резиновое лицо  Rubberface (Introducting… Janet)  Тони Морони\n",
    "2000  ф Я, снова я и Ирэн Me, Myself and Irene  Офицер Чарли Бэйлигейтс/Хэнк\n",
    "2008  ф Всегда говори «Да»  Yes man Карл Аллен\n",
    "1989  ф Земные девушки легко доступны Earth Girls Are Easy  Уиплок\n",
    "1988  ф Смертельный список  The Dead Pool Джонни Squares\n",
    "2011  с Офис  The Office  Парень из Пальцевых Озер (одна серия)\n",
    "2009  ф Я люблю тебя, Филлип Моррис I Love You Phillip Morris Стив Рассел\n",
    "1983  ф Всё в хорошем вкусе All in Good Taste Ральф\n",
    "2009  мф  Рождественская история  A Christmas Carol Эбенезер Скрудж, призраки\n",
    "1984 — 1984 с Утиная фабрика  The Duck Factory  Скип Таркентон\n",
    "2007  ф Роковое число 23  Number 23 Уолтер Спэрроу\n",
    "2017  ф Джим и Энди - великое запределье  Оригинальное название неизвестно\n",
    "2008  мф  Хортон  Horton Hears a Who! Хортон (голос)\n",
    "2003  ф Брюс всемогущий Bruce Almighty  Брюс Нолан\n",
    "1996  ф Кабельщик The Cable Guy Кабельщик/Чип/Рики\n",
    "2009  ф Под морем в 3D  Under the Sea 3D  рассказчик\n",
    "2013  ф Невероятный Бёрт Уандерстоун  Burt Wonderstone  Стив Грэй\n",
    "1989  ф Розовый кадиллак  Pink Cadillac Комедиант\n",
    "2013  ф Телеведущий 2 Anchorman: The Legend Continues ведущий Скотт Райлс\n",
    "1999  ф Человек на Луне Man on the Moon Энди Кауфман/Тони Клифтон\n",
    "1994  ф Маска The Mask  Стэнли Ипкисс\n",
    "2011  ф Пингвины мистера Поппера  Mr. Popper’s Penguins Том Поппер\n",
    "2000  ф Гринч — похититель Рождества  How the Grinch Stole Christmas  Гринч\n",
    "1986  ф Пегги Сью вышла замуж Peggy Sue Got Married Уолтер Гетц\n",
    "1998  ф Шоу Трумана The Truman Show Трумэн Бёрбэнк\n",
    "1983  ф Гора Куппер Copper Mountain Бобби Тодд\n",
    "2013  ф Пипец 2 Kick-Ass 2  Полковник Америка\n",
    "1985  ф Однажды укушенный Once Bitten Марк Кендэлл\n",
    "2005  ф Аферисты Дик и Джейн  Fun with Dick and Jane  Дик Харпер\n",
    "1995  ф Бэтмен навсегда Batman Forever  Эдвард Нигма/Загадочник\n",
    "1990 — 1994 с В живом цвете In Living Color Различные роли\n",
    "1984  ф Чур, мое! Finders Keepers Лэйн Бидлекофф\n",
    "1995  ф Эйс Вентура 2: Когда зовёт природа  Ace Ventura: When Nature Calls  Эйс Вентура\n",
    "2016  ф Настоящее преступление  True Crimes Джек\n",
    "1993  ф Эйс Вентура: Розыск домашних животных Ace Ventura: Pet Detective  Эйс Вентура\n",
    "2016  ф Плохая партия The Bad Batch Питер\n",
    "2001  ф Мажестик  The Majestic  Питер Эпплтон\n",
    "1991  ф Нервы на пределе  High Strung Смерть\n",
    "2004  ф Лемони Сникет: 33 несчастья Lemony Snicket’s A Series of Unfortunate Events Граф Олаф\n",
    "2004  ф Вечное сияние чистого разума  Eternal Sunshine of the Spotless Mind Джоел Бэриш\n",
    "1997  ф Лжец, лжец  Liar Liar Флетчер Рид\n",
    "1992  мф  Крошечный паучок  Itsy Bitsy Spider Истребитель насекомых (голос)\n",
    "1992  ф Жизнь на Мэйпл-Драйв (ТВ) Doing Time on Maple Drive Тим Картер\n",
    "2014  ф Тупой и ещё тупее 2 Dumb & Dumber 2 Ллойд Кристмас\n",
    "1998  ф Саймон Бирч Simon Birch Взрослый Джо Вентеуорф\n",
    "1994  ф Тупой и ещё тупее Dumb & Dumber Ллойд Кристмас\"\"\""
   ]
  },
  {
   "cell_type": "markdown",
   "metadata": {},
   "source": [
    "**Что знаем и умеем?**\n",
    "\n",
    "* Функция `sorted`\n",
    "* Отличие функции `sorted` от метода `sort` у объектов класса `list`\n",
    "* Сортировка от меньшего к большему. От большего к меньшему\n",
    "* Сортировка по произвольному ключу\n",
    "* Что такое лямбда-функции?\n",
    "* Умеем определять лямбда-функции"
   ]
  },
  {
   "cell_type": "markdown",
   "metadata": {},
   "source": [
    "<br><br>\n",
    "## 5. Мелкие полезности"
   ]
  },
  {
   "cell_type": "markdown",
   "metadata": {},
   "source": [
    "Операторы инкремента позволяются сохранить время"
   ]
  },
  {
   "cell_type": "code",
   "execution_count": null,
   "metadata": {},
   "outputs": [],
   "source": [
    "variable = 10\n",
    "variable = variable + 10\n",
    "print(variable)"
   ]
  },
  {
   "cell_type": "code",
   "execution_count": null,
   "metadata": {},
   "outputs": [],
   "source": [
    "variable = 10\n",
    "variable += 10\n",
    "print(variable)"
   ]
  },
  {
   "cell_type": "code",
   "execution_count": null,
   "metadata": {},
   "outputs": [],
   "source": [
    "i += 1 # это то же самое, что и i = i + 1\n",
    "i -= 1 # это то же самое, что и i = i - 1\n",
    "i *= 2 # это то же самое, что и i = i * 2\n",
    "i /= 2 # это то же самое, что и i = i / 2"
   ]
  },
  {
   "cell_type": "markdown",
   "metadata": {},
   "source": [
    "Функция enumerate "
   ]
  },
  {
   "cell_type": "code",
   "execution_count": null,
   "metadata": {},
   "outputs": [],
   "source": [
    "text = 'An apple was good. An orange was not'\n",
    "text = text.split()\n",
    "\n",
    "for index, word in enumerate(text):\n",
    "    print(index, word, text[index-1])"
   ]
  },
  {
   "cell_type": "markdown",
   "metadata": {},
   "source": [
    "Функция enumerate позволяет сократить решение Блиц-задачи"
   ]
  },
  {
   "cell_type": "code",
   "execution_count": null,
   "metadata": {},
   "outputs": [],
   "source": [
    "# БЫЛО\n",
    "word_counter = 0\n",
    "for word in text.split():\n",
    "    prev_words = text.split()[word_counter - 1]\n",
    "    if (word == 'animals') and (prev_words.isdigit()):\n",
    "        print(prev_words, word)\n",
    "    word_counter += 1"
   ]
  },
  {
   "cell_type": "code",
   "execution_count": null,
   "metadata": {},
   "outputs": [],
   "source": [
    "# СТАЛО\n",
    "for word_num, word in enumerate(text.split()):\n",
    "    prev_words = text.split()[word_num - 1]\n",
    "    if (word == 'animals') and (prev_words.isdigit()):\n",
    "        print(prev_words, word)"
   ]
  },
  {
   "cell_type": "markdown",
   "metadata": {},
   "source": [
    "##### Самописные функции\n",
    "\n",
    "\n",
    "Определить функцию можно так:"
   ]
  },
  {
   "cell_type": "code",
   "execution_count": null,
   "metadata": {
    "ExecuteTime": {
     "end_time": "2019-11-12T12:42:48.876163Z",
     "start_time": "2019-11-12T12:42:48.872431Z"
    }
   },
   "outputs": [],
   "source": [
    "def function(x):\n",
    "    answer = x ** 2\n",
    "    return answer"
   ]
  },
  {
   "cell_type": "code",
   "execution_count": null,
   "metadata": {
    "ExecuteTime": {
     "end_time": "2019-11-12T12:42:48.998369Z",
     "start_time": "2019-11-12T12:42:48.980805Z"
    }
   },
   "outputs": [],
   "source": [
    "function(2222)"
   ]
  },
  {
   "cell_type": "code",
   "execution_count": null,
   "metadata": {},
   "outputs": [],
   "source": [
    "def is_palindrom(stroka):\n",
    "    stroka = ''.join(stroka.split()).lower()\n",
    "    return stroka == stroka[::-1]"
   ]
  },
  {
   "cell_type": "code",
   "execution_count": null,
   "metadata": {},
   "outputs": [],
   "source": [
    "stroka = 'А роза упала на лапу Азора'"
   ]
  },
  {
   "cell_type": "code",
   "execution_count": null,
   "metadata": {},
   "outputs": [],
   "source": [
    "stroka_split = stroka.split()"
   ]
  },
  {
   "cell_type": "code",
   "execution_count": null,
   "metadata": {},
   "outputs": [],
   "source": [
    "'___'.join(stroka_split)"
   ]
  },
  {
   "cell_type": "code",
   "execution_count": null,
   "metadata": {},
   "outputs": [],
   "source": [
    "?str.join"
   ]
  },
  {
   "cell_type": "code",
   "execution_count": null,
   "metadata": {
    "ExecuteTime": {
     "end_time": "2017-11-18T08:34:41.708387Z",
     "start_time": "2017-11-18T08:34:41.696636Z"
    }
   },
   "outputs": [],
   "source": [
    "zoo_file = open('zoo.txt')\n",
    "text = zoo_file.read()\n",
    "zoo_file.close()\n",
    "\n",
    "\n",
    "split_text = text.split()\n",
    "\n",
    "red_list_animals = 0\n",
    "\n",
    "for index, word in enumerate(text.split()):\n",
    "    if word == 'animals':\n",
    "        previous_word = split_text[index - 1]\n",
    "        if previous_word.isdigit():\n",
    "            print('animals:', previous_word)\n",
    "\n",
    "    if word.isdigit() and int(word) < 10 and \\\n",
    "            split_text[index + 1] != 'animals':\n",
    "        red_list_animals += int(word)\n",
    "        \n",
    "print('red_list_animals:', red_list_animals)"
   ]
  },
  {
   "cell_type": "code",
   "execution_count": null,
   "metadata": {
    "ExecuteTime": {
     "end_time": "2017-11-18T08:17:11.795264Z",
     "start_time": "2017-11-18T08:17:11.790334Z"
    }
   },
   "outputs": [],
   "source": [
    "print(text)"
   ]
  }
 ],
 "metadata": {
  "kernelspec": {
   "display_name": "Python 3",
   "language": "python",
   "name": "python3"
  },
  "language_info": {
   "codemirror_mode": {
    "name": "ipython",
    "version": 3
   },
   "file_extension": ".py",
   "mimetype": "text/x-python",
   "name": "python",
   "nbconvert_exporter": "python",
   "pygments_lexer": "ipython3",
   "version": "3.7.9"
  }
 },
 "nbformat": 4,
 "nbformat_minor": 2
}
