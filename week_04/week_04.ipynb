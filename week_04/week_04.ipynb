{
 "cells": [
  {
   "cell_type": "markdown",
   "metadata": {},
   "source": [
    "# Лекция №4. Продолжаем работать с pandas: агрегация"
   ]
  },
  {
   "cell_type": "markdown",
   "metadata": {},
   "source": [
    "Содержание:\n",
    "\n",
    "1. Объединяем таблички\n",
    "2. Агрегация\n",
    "3. Строим графики"
   ]
  },
  {
   "cell_type": "code",
   "execution_count": null,
   "metadata": {},
   "outputs": [],
   "source": [
    "import pandas as pd"
   ]
  },
  {
   "cell_type": "markdown",
   "metadata": {},
   "source": [
    "<br><br>\n",
    "\n",
    "## 1. Объединяем таблички"
   ]
  },
  {
   "cell_type": "code",
   "execution_count": null,
   "metadata": {},
   "outputs": [],
   "source": [
    "a = pd.DataFrame(columns=['col1', 'col2'])\n",
    "a.loc[len(a)] = [0, 5]\n",
    "a.loc[len(a)] = [1, 3]\n",
    "a.loc[len(a)] = [4, 8]\n",
    "\n",
    "\n",
    "b = pd.DataFrame(columns=['col1', 'col2'])\n",
    "b.loc[len(b)] = [2, 2]\n",
    "b.loc[len(b)] = [6, 9]\n",
    "b.loc[len(b)] = [1, 4]\n",
    "\n",
    "\n",
    "c = pd.DataFrame(columns=['col1', 'col2'])\n",
    "c.loc[len(c)] = [8, 99]\n",
    "c.loc[len(c)] = [6, 2]"
   ]
  },
  {
   "cell_type": "code",
   "execution_count": null,
   "metadata": {},
   "outputs": [],
   "source": []
  },
  {
   "cell_type": "code",
   "execution_count": null,
   "metadata": {},
   "outputs": [],
   "source": [
    "pd.concat([a,b,c], ignore_index=True)"
   ]
  },
  {
   "cell_type": "code",
   "execution_count": null,
   "metadata": {},
   "outputs": [],
   "source": [
    "titanic_data = pd.read_csv('titanic_data.csv')\n",
    "titanic_surv = pd.read_csv('titanic_surv.csv')"
   ]
  },
  {
   "cell_type": "code",
   "execution_count": null,
   "metadata": {},
   "outputs": [],
   "source": [
    "titanic_data"
   ]
  },
  {
   "cell_type": "code",
   "execution_count": null,
   "metadata": {},
   "outputs": [],
   "source": [
    "titanic_surv"
   ]
  },
  {
   "cell_type": "markdown",
   "metadata": {},
   "source": [
    "Как объеденить? Наивный способ:"
   ]
  },
  {
   "cell_type": "code",
   "execution_count": null,
   "metadata": {},
   "outputs": [],
   "source": [
    "titanic_surv['Survived']"
   ]
  },
  {
   "cell_type": "code",
   "execution_count": null,
   "metadata": {},
   "outputs": [],
   "source": [
    "titanic_data['Survived'] = titanic_surv['Survived']"
   ]
  },
  {
   "cell_type": "code",
   "execution_count": null,
   "metadata": {},
   "outputs": [],
   "source": [
    "titanic_data.head()"
   ]
  },
  {
   "cell_type": "markdown",
   "metadata": {},
   "source": [
    "**Есть нюансы**"
   ]
  },
  {
   "cell_type": "code",
   "execution_count": null,
   "metadata": {},
   "outputs": [],
   "source": [
    "table = pd.DataFrame(columns=['name', 'birthdate'])\n",
    "table.loc[len(table)] = ['Vasya', '2000-12-12']\n",
    "table.loc[len(table)] = ['Zhenya', '2000-01-29']\n",
    "table.loc[len(table)] = ['Sasha', '2000-03-19']\n",
    "\n",
    "table2 = pd.DataFrame(columns=['height'])\n",
    "table2.loc[len(table2)] = ['175']\n",
    "table2.loc[len(table2)] = ['170']\n",
    "table2.loc[len(table2)] = ['180']"
   ]
  },
  {
   "cell_type": "code",
   "execution_count": null,
   "metadata": {},
   "outputs": [],
   "source": [
    "table"
   ]
  },
  {
   "cell_type": "code",
   "execution_count": null,
   "metadata": {},
   "outputs": [],
   "source": [
    "table2"
   ]
  },
  {
   "cell_type": "code",
   "execution_count": null,
   "metadata": {},
   "outputs": [],
   "source": [
    "table2.index = [2,1,0]"
   ]
  },
  {
   "cell_type": "code",
   "execution_count": null,
   "metadata": {},
   "outputs": [],
   "source": [
    "table2"
   ]
  },
  {
   "cell_type": "code",
   "execution_count": null,
   "metadata": {},
   "outputs": [],
   "source": [
    "table['height'] = table2['height']"
   ]
  },
  {
   "cell_type": "code",
   "execution_count": null,
   "metadata": {},
   "outputs": [],
   "source": [
    "table"
   ]
  },
  {
   "cell_type": "code",
   "execution_count": null,
   "metadata": {},
   "outputs": [],
   "source": [
    "table.index = ['a', 'b', 'c']"
   ]
  },
  {
   "cell_type": "code",
   "execution_count": null,
   "metadata": {},
   "outputs": [],
   "source": [
    "table['height'] = table2['height']"
   ]
  },
  {
   "cell_type": "code",
   "execution_count": null,
   "metadata": {},
   "outputs": [],
   "source": [
    "table"
   ]
  },
  {
   "cell_type": "markdown",
   "metadata": {},
   "source": [
    "**Но что если:**\n",
    "\n",
    "* хотим присоединить не одну колонку, а таблицу из множества колонок?\n",
    "* что если число строк разное?\n",
    "\n",
    "На помощь придёт `pd.merge`"
   ]
  },
  {
   "cell_type": "code",
   "execution_count": null,
   "metadata": {},
   "outputs": [],
   "source": [
    "table = pd.DataFrame(columns=['name', 'birthdate'])\n",
    "table.loc[len(table)] = ['Vasya', '2000-12-12']\n",
    "table.loc[len(table)] = ['Zhenya', '2000-01-29']\n",
    "table.loc[len(table)] = ['Sasha', '2000-03-19']\n",
    "\n",
    "table2 = pd.DataFrame(columns=['name', 'height', 'weight'])\n",
    "table2.loc[len(table2)] = ['Sasha', 175, 50]\n",
    "table2.loc[len(table2)] = ['Vasya', 170, 52]\n",
    "table2.loc[len(table2)] = ['Zhenya', 180, 65]"
   ]
  },
  {
   "cell_type": "code",
   "execution_count": null,
   "metadata": {},
   "outputs": [],
   "source": [
    "table"
   ]
  },
  {
   "cell_type": "code",
   "execution_count": null,
   "metadata": {},
   "outputs": [],
   "source": [
    "table2"
   ]
  },
  {
   "cell_type": "markdown",
   "metadata": {},
   "source": []
  },
  {
   "cell_type": "code",
   "execution_count": null,
   "metadata": {},
   "outputs": [],
   "source": [
    "pd.merge(table, table2, on='name')"
   ]
  },
  {
   "cell_type": "code",
   "execution_count": null,
   "metadata": {},
   "outputs": [],
   "source": [
    "pd.merge(table, table2, left_index=True, right_index=True)"
   ]
  },
  {
   "cell_type": "markdown",
   "metadata": {},
   "source": [
    "При совпадающих колонках - появляется префикс"
   ]
  },
  {
   "cell_type": "markdown",
   "metadata": {},
   "source": [
    "Итого:\n",
    "\n",
    "* `pd.merge(df1, df2, left_index=True, right_index=True)` - соединяем по индексам обеих таблиц\n",
    "* `pd.merge(df1, df2, left_on='left_col', right_on='right_col')` - соединяем по колонке `left_col` таблицы `df1` и по колонке `right_col` таблицы `df2`\n",
    "* `pd.merge(df1, df2, on='common_col')` - соединяем по общему столбцу\n",
    "* `pd.merge(df1, df2, on=['common_col_1', 'common_col_2'])` - можно по набору столбцов"
   ]
  },
  {
   "cell_type": "markdown",
   "metadata": {},
   "source": [
    "<br><br>\n",
    "**Что если значения разные?**"
   ]
  },
  {
   "cell_type": "code",
   "execution_count": null,
   "metadata": {},
   "outputs": [],
   "source": [
    "table = pd.DataFrame(columns=['name', 'birthdate'])\n",
    "table.loc[len(table)] = ['Vasya', '2000-12-12']\n",
    "table.loc[len(table)] = ['Zhenya', '2000-01-29']\n",
    "table.loc[len(table)] = ['Sasha', '2000-03-19']\n",
    "table.loc[len(table)] = ['Vovan', '2001-08-08']\n",
    "\n",
    "table2 = pd.DataFrame(columns=['name', 'height', 'weight'])\n",
    "table2.loc[len(table2)] = ['Sasha', 175, 50]\n",
    "table2.loc[len(table2)] = ['Vasya', 170, 52]\n",
    "table2.loc[len(table2)] = ['Zhenya', 180, 65]\n",
    "table2.loc[len(table2)] = ['Kostyan', 190, 100]"
   ]
  },
  {
   "cell_type": "code",
   "execution_count": null,
   "metadata": {},
   "outputs": [],
   "source": [
    "pd.merge(table, table2, on='name', how='inner')"
   ]
  },
  {
   "cell_type": "code",
   "execution_count": null,
   "metadata": {},
   "outputs": [],
   "source": [
    "pd.merge(table, table2, on='name', how='outer')"
   ]
  },
  {
   "cell_type": "code",
   "execution_count": null,
   "metadata": {},
   "outputs": [],
   "source": [
    "pd.merge(table, table2, on='name', how='left')"
   ]
  },
  {
   "cell_type": "code",
   "execution_count": null,
   "metadata": {},
   "outputs": [],
   "source": [
    "pd.merge(table, table2, on='name', how='right')"
   ]
  },
  {
   "cell_type": "markdown",
   "metadata": {},
   "source": [
    "#### Схема\n",
    "\n",
    "![](https://cdn.softwaretestinghelp.com/wp-content/qa/uploads/2019/05/Capture-1.jpg)"
   ]
  },
  {
   "cell_type": "markdown",
   "metadata": {},
   "source": [
    "**А что если будут повторы?**"
   ]
  },
  {
   "cell_type": "code",
   "execution_count": null,
   "metadata": {},
   "outputs": [],
   "source": [
    "table = pd.DataFrame(columns=['name', 'birthdate'])\n",
    "table.loc[len(table)] = ['Vasya', '2000-12-12']\n",
    "table.loc[len(table)] = ['Zhenya', '2000-01-29']\n",
    "table.loc[len(table)] = ['Sasha', '2000-03-19']\n",
    "table.loc[len(table)] = ['Sasha', '2001-08-08']\n",
    "\n",
    "table2 = pd.DataFrame(columns=['name', 'height', 'weight'])\n",
    "table2.loc[len(table2)] = ['Sasha', 175, 50]\n",
    "table2.loc[len(table2)] = ['Vasya', 170, 52]\n",
    "table2.loc[len(table2)] = ['Zhenya', 180, 65]\n",
    "table2.loc[len(table2)] = ['Sasha', 190, 100]"
   ]
  },
  {
   "cell_type": "code",
   "execution_count": null,
   "metadata": {},
   "outputs": [],
   "source": [
    "pd.merge(table, table2, on='name', how='inner')"
   ]
  },
  {
   "cell_type": "markdown",
   "metadata": {},
   "source": [
    "### Можно делать и так"
   ]
  },
  {
   "cell_type": "code",
   "execution_count": null,
   "metadata": {},
   "outputs": [],
   "source": [
    "table = pd.DataFrame(columns=['name', 'birthdate'])\n",
    "table.loc[len(table)] = ['Vasya', '2000-12-12']\n",
    "table.loc[len(table)] = ['Zhenya', '2000-01-29']\n",
    "table.loc[len(table)] = ['Sasha', '2000-03-19']\n",
    "table.loc[len(table)] = ['Vovan', '2001-08-08']\n",
    "\n",
    "table2 = pd.DataFrame(columns=['name', 'height'])\n",
    "table2.loc[len(table2)] = ['Sasha', 175]\n",
    "table2.loc[len(table2)] = ['Vasya', 170]\n",
    "table2.loc[len(table2)] = ['Zhenya', 180]\n",
    "table2.loc[len(table2)] = ['Kostyan', 190]\n",
    "\n",
    "\n",
    "table3 = pd.DataFrame(columns=['name', 'weight'])\n",
    "table3.loc[len(table3)] = ['Sasha', 50]\n",
    "table3.loc[len(table3)] = ['Vasya', 52]\n",
    "table3.loc[len(table3)] = ['Zhenya', 65]\n",
    "table3.loc[len(table3)] = ['Kostyan', 100]"
   ]
  },
  {
   "cell_type": "code",
   "execution_count": null,
   "metadata": {},
   "outputs": [],
   "source": [
    "table"
   ]
  },
  {
   "cell_type": "code",
   "execution_count": null,
   "metadata": {},
   "outputs": [],
   "source": [
    "table2"
   ]
  },
  {
   "cell_type": "code",
   "execution_count": null,
   "metadata": {},
   "outputs": [],
   "source": [
    "table.merge(table2, on='name')"
   ]
  },
  {
   "cell_type": "code",
   "execution_count": null,
   "metadata": {},
   "outputs": [],
   "source": [
    "table.merge(table2, on='name').merge(table3, on='name')"
   ]
  },
  {
   "cell_type": "markdown",
   "metadata": {},
   "source": [
    "**Что знаем и умеем?**\n",
    "\n",
    "* Умеем объединять таблички\n",
    "* Объедиение через `pd.concat`\n",
    "* Обдъединение через функцию `pd.merge(df1, df2)`\n",
    "* Обдъединение через метод `df1.merge(df2)`\n",
    "* Различные типы объединений. Аргумент `how` у `pd.merge`.\n",
    "* Объединение по индекса, по общей колонке, по колонкам"
   ]
  },
  {
   "cell_type": "markdown",
   "metadata": {},
   "source": [
    "<br><br>\n",
    "\n",
    "## 2. Агрегация данных"
   ]
  },
  {
   "cell_type": "markdown",
   "metadata": {},
   "source": [
    "#### 2.1 groupby"
   ]
  },
  {
   "cell_type": "code",
   "execution_count": null,
   "metadata": {},
   "outputs": [],
   "source": [
    "titanic_data = pd.read_csv('titanic_data.csv')\n",
    "titanic_surv = pd.read_csv('titanic_surv.csv')"
   ]
  },
  {
   "cell_type": "code",
   "execution_count": null,
   "metadata": {},
   "outputs": [],
   "source": [
    "titanic_data['Survived'] = titanic_surv['Survived']"
   ]
  },
  {
   "cell_type": "code",
   "execution_count": null,
   "metadata": {},
   "outputs": [],
   "source": [
    "titanic_data[titanic_data['Pclass'] == 1]['Survived'].mean()"
   ]
  },
  {
   "cell_type": "code",
   "execution_count": null,
   "metadata": {},
   "outputs": [],
   "source": [
    "titanic_data[titanic_data['Pclass'] == 2]['Survived'].mean()"
   ]
  },
  {
   "cell_type": "code",
   "execution_count": null,
   "metadata": {},
   "outputs": [],
   "source": [
    "titanic_data[titanic_data['Pclass'] == 3]['Survived'].mean()"
   ]
  },
  {
   "cell_type": "code",
   "execution_count": null,
   "metadata": {},
   "outputs": [],
   "source": [
    "titanic_data[titanic_data['Pclass'] == 1][['Pclass', 'Survived']].mean()"
   ]
  },
  {
   "cell_type": "code",
   "execution_count": null,
   "metadata": {},
   "outputs": [],
   "source": [
    "pd.concat([titanic_data[titanic_data['Pclass'] == 1][['Pclass', 'Survived']].mean(),\n",
    "           titanic_data[titanic_data['Pclass'] == 2][['Pclass', 'Survived']].mean(),\n",
    "           titanic_data[titanic_data['Pclass'] == 3][['Pclass', 'Survived']].mean()], axis=1)"
   ]
  },
  {
   "cell_type": "code",
   "execution_count": null,
   "metadata": {},
   "outputs": [],
   "source": [
    "titanic_data[['Pclass', 'Survived']].groupby('Pclass', as_index=False).mean()"
   ]
  },
  {
   "cell_type": "code",
   "execution_count": null,
   "metadata": {},
   "outputs": [],
   "source": [
    "titanic_data[['Sex', 'Survived']].groupby('Sex', as_index=False).mean()"
   ]
  },
  {
   "cell_type": "code",
   "execution_count": null,
   "metadata": {},
   "outputs": [],
   "source": [
    "titanic_data[['Pclass', 'Sex', 'Survived']].groupby(['Pclass', 'Sex'], as_index=False).mean()"
   ]
  },
  {
   "cell_type": "code",
   "execution_count": null,
   "metadata": {},
   "outputs": [],
   "source": [
    "titanic_data[['Pclass', 'Survived']].groupby('Pclass').agg(['mean', 'std'])"
   ]
  },
  {
   "cell_type": "code",
   "execution_count": null,
   "metadata": {},
   "outputs": [],
   "source": [
    "titanic_data[['Pclass', 'Cabin']].groupby('Pclass').agg(['size', 'count'])"
   ]
  },
  {
   "cell_type": "code",
   "execution_count": null,
   "metadata": {},
   "outputs": [],
   "source": [
    "temp = titanic_data[['Pclass', 'Survived']].groupby('Pclass').agg(['mean', 'std'])"
   ]
  },
  {
   "cell_type": "code",
   "execution_count": null,
   "metadata": {},
   "outputs": [],
   "source": [
    "temp.loc[:, ('Survived', 'mean')]"
   ]
  },
  {
   "cell_type": "markdown",
   "metadata": {},
   "source": [
    "Посмотрим поближе"
   ]
  },
  {
   "cell_type": "code",
   "execution_count": null,
   "metadata": {},
   "outputs": [],
   "source": [
    "df = pd.DataFrame(columns=['Класс', 'Имя', 'Литра', 'Физра'])\n",
    "\n",
    "df.loc[len(df),:] = ['5 А', 'Вася', 4, 5]\n",
    "df.loc[len(df),:] = ['5 А', 'Женя', 5, 3]\n",
    "df.loc[len(df),:] = ['5 Б', 'Юля', 4, 3]\n",
    "df.loc[len(df),:] = ['5 Б', 'Лев', 3, 4]\n",
    "df.loc[len(df),:] = ['5 Б', 'Катя', 5, 5]\n",
    "\n"
   ]
  },
  {
   "cell_type": "code",
   "execution_count": null,
   "metadata": {},
   "outputs": [],
   "source": [
    "df"
   ]
  },
  {
   "cell_type": "code",
   "execution_count": null,
   "metadata": {},
   "outputs": [],
   "source": [
    "def custom_func(gr_df):\n",
    "    # return sorted(gr_df, reverse=True)[1]\n",
    "    return sum(gr_df) / len(gr_df)"
   ]
  },
  {
   "cell_type": "code",
   "execution_count": null,
   "metadata": {},
   "outputs": [],
   "source": [
    "df[['Класс', 'Литра', 'Физра']].groupby(['Класс']).agg(custom_func)"
   ]
  },
  {
   "cell_type": "markdown",
   "metadata": {},
   "source": [
    "1. Разбили датафрейм на два (5A и 5Б)\n",
    "2. В каждом датафрейме к каждому столбцу применили функцию `custom_func`\n",
    "3. Вывели результат"
   ]
  },
  {
   "cell_type": "markdown",
   "metadata": {},
   "source": [
    "#### 2.2 apply"
   ]
  },
  {
   "cell_type": "markdown",
   "metadata": {},
   "source": [
    "Можно применять функции построчно/постолбцово"
   ]
  },
  {
   "cell_type": "code",
   "execution_count": null,
   "metadata": {},
   "outputs": [],
   "source": [
    "df"
   ]
  },
  {
   "cell_type": "code",
   "execution_count": null,
   "metadata": {},
   "outputs": [],
   "source": [
    "df.apply(lambda x: (x['Литра']+x['Физра'])/2, axis=1)"
   ]
  },
  {
   "cell_type": "code",
   "execution_count": null,
   "metadata": {},
   "outputs": [],
   "source": [
    "def calculate_litra_fizra_avg(row):\n",
    "    return (row['Литра']+row['Физра'])/2"
   ]
  },
  {
   "cell_type": "code",
   "execution_count": null,
   "metadata": {},
   "outputs": [],
   "source": [
    "df['avg'] = df.apply(calculate_litra_fizra_avg, axis=1)"
   ]
  },
  {
   "cell_type": "code",
   "execution_count": null,
   "metadata": {},
   "outputs": [],
   "source": [
    "df"
   ]
  },
  {
   "cell_type": "markdown",
   "metadata": {},
   "source": [
    "1. Для каждой строчки применили функцию `calculate_litra_fizra_avg`, которая считает средний балл по двум предметам\n",
    "2. Результат вставили в новый столбец"
   ]
  },
  {
   "cell_type": "markdown",
   "metadata": {},
   "source": [
    "Можно применять к строкам"
   ]
  },
  {
   "cell_type": "code",
   "execution_count": null,
   "metadata": {},
   "outputs": [],
   "source": [
    "df = pd.DataFrame(columns=['Класс', 'Имя', 'Литра', 'Физра'])\n",
    "\n",
    "df.loc[len(df),:] = ['5 А', 'Вася', 4, 5]\n",
    "df.loc[len(df),:] = ['5 А', 'Женя', 5, 3]\n",
    "df.loc[len(df),:] = ['5 Б', 'Юля', 4, 3]\n",
    "df.loc[len(df),:] = ['5 Б', 'Лев', 3, 4]\n",
    "df.loc[len(df),:] = ['5 Б', 'Катя', 5, 5]"
   ]
  },
  {
   "cell_type": "code",
   "execution_count": null,
   "metadata": {},
   "outputs": [],
   "source": [
    "df.T"
   ]
  },
  {
   "cell_type": "code",
   "execution_count": null,
   "metadata": {},
   "outputs": [],
   "source": [
    "df.T.apply(calculate_litra_fizra_avg, axis=0)"
   ]
  },
  {
   "cell_type": "markdown",
   "metadata": {},
   "source": [
    "*Для любителей:* существует ещё `df.applymap` - позволяет применять заданную функцию поэлементно. Работает так же. Поэкспериментируйте сами. См. документацию или примеры в интернете, если не получается. Ну или в чате спрашивайте."
   ]
  },
  {
   "cell_type": "markdown",
   "metadata": {},
   "source": [
    "#### 2.3 groupby-apply"
   ]
  },
  {
   "cell_type": "markdown",
   "metadata": {},
   "source": [
    "А если хотим применить функцию к группе целиком?"
   ]
  },
  {
   "cell_type": "code",
   "execution_count": null,
   "metadata": {},
   "outputs": [],
   "source": [
    "df = pd.DataFrame(columns=['Класс', 'Имя', 'Литра', 'Физра'])\n",
    "\n",
    "df.loc[len(df),:] = ['5 А', 'Вася', 4, 5]\n",
    "df.loc[len(df),:] = ['5 А', 'Женя', 5, 3]\n",
    "df.loc[len(df),:] = ['5 Б', 'Юля', 4, 3]\n",
    "df.loc[len(df),:] = ['5 Б', 'Лев', 3, 4]\n",
    "df.loc[len(df),:] = ['5 Б', 'Катя', 5, 5]"
   ]
  },
  {
   "cell_type": "code",
   "execution_count": null,
   "metadata": {},
   "outputs": [],
   "source": [
    "df"
   ]
  },
  {
   "cell_type": "code",
   "execution_count": null,
   "metadata": {},
   "outputs": [],
   "source": [
    "def all_classes_mean(group):\n",
    "    return group[['Литра', 'Физра']].values.mean()"
   ]
  },
  {
   "cell_type": "code",
   "execution_count": null,
   "metadata": {},
   "outputs": [],
   "source": [
    "df[['Класс', 'Литра', 'Физра']].groupby(['Класс']).apply(all_classes_mean)"
   ]
  },
  {
   "cell_type": "markdown",
   "metadata": {},
   "source": [
    "1. Разбили датафрейм на два (5A и 5Б)\n",
    "2. К датафрейму каждой группы применили `all_classes_mean` - подсчитали среднее по всем ученикам и по всем предметам\n",
    "3. Вывели результат"
   ]
  },
  {
   "cell_type": "markdown",
   "metadata": {},
   "source": [
    "<br><br>\n",
    "\n",
    "Всё это удобно комбинировать с мерджами.\n",
    "\n",
    "Давайте подсчитаем, сколько заплатил каждый пассажир титаника за билет по сравнению со средней ценой в его классе"
   ]
  },
  {
   "cell_type": "code",
   "execution_count": null,
   "metadata": {},
   "outputs": [],
   "source": [
    "titanic_data"
   ]
  },
  {
   "cell_type": "code",
   "execution_count": null,
   "metadata": {},
   "outputs": [],
   "source": [
    "titanic_data[['Pclass', 'Fare']].groupby('Pclass', as_index=False).mean()"
   ]
  },
  {
   "cell_type": "code",
   "execution_count": null,
   "metadata": {},
   "outputs": [],
   "source": [
    "mean_class_fare = titanic_data[['Pclass', 'Fare']].groupby('Pclass', as_index=False).mean()"
   ]
  },
  {
   "cell_type": "code",
   "execution_count": null,
   "metadata": {},
   "outputs": [],
   "source": [
    "mean_class_fare = mean_class_fare.rename(columns={'Fare': 'Mean_Class_Fare'})"
   ]
  },
  {
   "cell_type": "code",
   "execution_count": null,
   "metadata": {},
   "outputs": [],
   "source": [
    "mean_class_fare"
   ]
  },
  {
   "cell_type": "code",
   "execution_count": null,
   "metadata": {},
   "outputs": [],
   "source": [
    "result = titanic_data.merge(mean_class_fare, left_on='Pclass', right_on='Pclass')"
   ]
  },
  {
   "cell_type": "code",
   "execution_count": null,
   "metadata": {},
   "outputs": [],
   "source": [
    "result['Mean_Class_Fare'] / result['Fare'] * 100"
   ]
  },
  {
   "cell_type": "code",
   "execution_count": null,
   "metadata": {},
   "outputs": [],
   "source": [
    "result['Overpay'] = (result['Fare'] / result['Mean_Class_Fare']) * 100"
   ]
  },
  {
   "cell_type": "code",
   "execution_count": null,
   "metadata": {},
   "outputs": [],
   "source": [
    "result"
   ]
  },
  {
   "cell_type": "markdown",
   "metadata": {},
   "source": [
    "**Что знаем и умеем?**\n",
    "\n",
    "* Усвоили `groupby`. \n",
    "    * Умеем разбить таблицу по категории и получить аггрегированную информацию\n",
    "    * Умеем применять встроенные функции аггрегации: `mean`, `std`, `min`, `max`, `count`, `size`, ...\n",
    "    * Умеем применять свои собственные функции аггрегации\n",
    "* Усвоили `apply`. Применяем функции (в том числе собственные) к таблице построчно/постолбцово\n",
    "* Усвоили `groupby.apply`. При агрегации применяем функции к целым подтаблицам (группам)"
   ]
  },
  {
   "cell_type": "markdown",
   "metadata": {},
   "source": [
    "<br><br>\n",
    "## 3. Строим графики"
   ]
  },
  {
   "cell_type": "code",
   "execution_count": null,
   "metadata": {},
   "outputs": [],
   "source": [
    "import matplotlib.pyplot as plt\n",
    "%matplotlib inline"
   ]
  },
  {
   "cell_type": "code",
   "execution_count": null,
   "metadata": {},
   "outputs": [],
   "source": [
    "plt.hist(result['Overpay'])\n",
    "plt.show()"
   ]
  },
  {
   "cell_type": "markdown",
   "metadata": {},
   "source": [
    "Примеры того, что можно делать с помощью библиотеки, можно посмотреть здесь:\n",
    "\n",
    "* https://matplotlib.org/gallery/index.html\n",
    "    \n",
    "    \n",
    "Я покажу пару примеров, и их достаточно для случаев, когда надо быстро хоть что-нибудь нарисовать. Но будет лучше, если вы самостоятельно прочитаете основы\n",
    "* https://matplotlib.org/tutorials/index.html\n",
    "\n",
    "\n",
    "Есть и другие библиотеки, но они почти все на основе матплотлиба, так что его знать надо. Пример расширения возможностей: [seaborn](https://seaborn.pydata.org/)"
   ]
  },
  {
   "cell_type": "code",
   "execution_count": null,
   "metadata": {},
   "outputs": [],
   "source": [
    "plt.plot([1,2,3,4], [1,4,9,16])\n",
    "plt.show()"
   ]
  },
  {
   "cell_type": "code",
   "execution_count": null,
   "metadata": {},
   "outputs": [],
   "source": [
    "plt.plot([1,2,3,4], [1,4,9,16])\n",
    "plt.xlabel('some x label name')\n",
    "plt.ylabel('some y label name')\n",
    "plt.title('My diagramm')\n",
    "plt.show()"
   ]
  },
  {
   "cell_type": "code",
   "execution_count": null,
   "metadata": {},
   "outputs": [],
   "source": [
    "x = list(range(-100,100))\n",
    "y = list(map(lambda t: t**2, x))"
   ]
  },
  {
   "cell_type": "code",
   "execution_count": null,
   "metadata": {},
   "outputs": [],
   "source": [
    "plt.plot(x,y)\n",
    "plt.xlabel('some x label name')\n",
    "plt.ylabel('some y label name')\n",
    "plt.title('My diagramm')\n",
    "plt.show()"
   ]
  },
  {
   "cell_type": "code",
   "execution_count": null,
   "metadata": {},
   "outputs": [],
   "source": [
    "plt.plot(x, y, 'ro')\n",
    "plt.axis([0, 10, 0, 100])\n",
    "plt.show()"
   ]
  },
  {
   "cell_type": "code",
   "execution_count": null,
   "metadata": {},
   "outputs": [],
   "source": [
    "def f(t):\n",
    "    return np.exp(-t) * np.cos(2*np.pi*t)\n",
    "\n",
    "t1 = np.arange(0.0, 5.0, 0.1)\n",
    "t2 = np.arange(0.0, 5.0, 0.02)\n",
    "\n",
    "plt.figure(figsize=(15,5))\n",
    "plt.subplot(212)\n",
    "plt.plot(t1, f(t1), 'bo', t2, f(t2), 'k')\n",
    "\n",
    "plt.subplot(211)\n",
    "plt.plot(t2, np.cos(2*np.pi*t2), 'r--')\n",
    "plt.show()"
   ]
  },
  {
   "cell_type": "code",
   "execution_count": null,
   "metadata": {},
   "outputs": [],
   "source": [
    "plt.scatter(titanic_data['Fare'], titanic_data['Age'])"
   ]
  },
  {
   "cell_type": "markdown",
   "metadata": {},
   "source": [
    "**Что знаем и умеем?**\n",
    "\n",
    "* Усвоили как рисовать простейшие графики\n",
    "    * график функции по точкам\n",
    "    * гистограмма\n",
    "    * диаграма рассеивания\n",
    "* Умеем подписать оси, дать заголовок графику, заменить цвета\n",
    "* Умеем нарисовать несколько графиков в одном"
   ]
  },
  {
   "cell_type": "code",
   "execution_count": null,
   "metadata": {},
   "outputs": [],
   "source": []
  }
 ],
 "metadata": {
  "kernelspec": {
   "display_name": "Python 3",
   "language": "python",
   "name": "python3"
  },
  "language_info": {
   "codemirror_mode": {
    "name": "ipython",
    "version": 3
   },
   "file_extension": ".py",
   "mimetype": "text/x-python",
   "name": "python",
   "nbconvert_exporter": "python",
   "pygments_lexer": "ipython3",
   "version": "3.7.9"
  }
 },
 "nbformat": 4,
 "nbformat_minor": 4
}
